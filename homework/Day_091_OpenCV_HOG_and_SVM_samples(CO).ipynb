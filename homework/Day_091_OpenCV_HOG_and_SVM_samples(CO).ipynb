{
  "nbformat": 4,
  "nbformat_minor": 0,
  "metadata": {
    "colab": {
      "name": "Day_091_OpenCV-HOG_and_SVM_samples.ipynb",
      "version": "0.3.2",
      "provenance": [],
      "collapsed_sections": []
    },
    "kernelspec": {
      "name": "python3",
      "display_name": "Python 3"
    }
  },
  "cells": [
    {
      "cell_type": "markdown",
      "metadata": {
        "id": "ms-KNpKrkzYR",
        "colab_type": "text"
      },
      "source": [
        "## opencv/samples/python/tutorial_code/ml/py_svm_opencv/hogsvm.py\n",
        "\n",
        "網址：[OpenCV範例](https://github.com/opencv/opencv/blob/master/samples/python/tutorial_code/ml/py_svm_opencv/hogsvm.py)"
      ]
    },
    {
      "cell_type": "code",
      "metadata": {
        "id": "dubF0w16kpMN",
        "colab_type": "code",
        "colab": {}
      },
      "source": [
        "import cv2 as cv\n",
        "import numpy as np"
      ],
      "execution_count": 0,
      "outputs": []
    },
    {
      "cell_type": "code",
      "metadata": {
        "id": "fcu-XFzIk9gh",
        "colab_type": "code",
        "colab": {}
      },
      "source": [
        "SZ=20\n",
        "bin_n = 16 # Number of bins\n",
        "affine_flags = cv.WARP_INVERSE_MAP|cv.INTER_LINEAR"
      ],
      "execution_count": 0,
      "outputs": []
    },
    {
      "cell_type": "code",
      "metadata": {
        "id": "1Gk8BOiSlBuY",
        "colab_type": "code",
        "colab": {}
      },
      "source": [
        "## [deskew]\n",
        "def deskew(img):\n",
        "    m = cv.moments(img)\n",
        "    if abs(m['mu02']) < 1e-2:\n",
        "        return img.copy()\n",
        "    skew = m['mu11']/m['mu02']\n",
        "    M = np.float32([[1, skew, -0.5*SZ*skew], [0, 1, 0]])\n",
        "    img = cv.warpAffine(img,M,(SZ, SZ),flags=affine_flags)\n",
        "    return img\n",
        "## [deskew]"
      ],
      "execution_count": 0,
      "outputs": []
    },
    {
      "cell_type": "code",
      "metadata": {
        "id": "OzSCyYFBlDWg",
        "colab_type": "code",
        "colab": {}
      },
      "source": [
        "## [hog]\n",
        "def hog(img):\n",
        "    gx = cv.Sobel(img, cv.CV_32F, 1, 0)\n",
        "    gy = cv.Sobel(img, cv.CV_32F, 0, 1)\n",
        "    mag, ang = cv.cartToPolar(gx, gy)\n",
        "    bins = np.int32(bin_n*ang/(2*np.pi))    # quantizing binvalues in (0...16)\n",
        "    bin_cells = bins[:10,:10], bins[10:,:10], bins[:10,10:], bins[10:,10:]\n",
        "    mag_cells = mag[:10,:10], mag[10:,:10], mag[:10,10:], mag[10:,10:]\n",
        "    hists = [np.bincount(b.ravel(), m.ravel(), bin_n) for b, m in zip(bin_cells, mag_cells)]\n",
        "    hist = np.hstack(hists)     # hist is a 64 bit vector\n",
        "    return hist\n",
        "## [hog]"
      ],
      "execution_count": 0,
      "outputs": []
    },
    {
      "cell_type": "code",
      "metadata": {
        "id": "2FRgmwBclE_Q",
        "colab_type": "code",
        "colab": {}
      },
      "source": [
        "from skimage import io\n",
        "img = io.imread('https://github.com/opencv/opencv/blob/master/samples/data/digits.png?raw=true')\n",
        "#img = cv.imread('digits.png',0)\n",
        "if img is None:\n",
        "    raise Exception(\"we need the digits.png image from samples/data here !\")\n"
      ],
      "execution_count": 0,
      "outputs": []
    },
    {
      "cell_type": "code",
      "metadata": {
        "id": "QSCiFgbSlGyQ",
        "colab_type": "code",
        "colab": {}
      },
      "source": [
        "cells = [np.hsplit(row,100) for row in np.vsplit(img,50)]"
      ],
      "execution_count": 0,
      "outputs": []
    },
    {
      "cell_type": "code",
      "metadata": {
        "id": "htW0_3hzlH-X",
        "colab_type": "code",
        "colab": {}
      },
      "source": [
        "# First half is trainData, remaining is testData\n",
        "train_cells = [ i[:50] for i in cells ]\n",
        "test_cells = [ i[50:] for i in cells]\n"
      ],
      "execution_count": 0,
      "outputs": []
    },
    {
      "cell_type": "code",
      "metadata": {
        "id": "hf-LZweVlJ9Q",
        "colab_type": "code",
        "colab": {}
      },
      "source": [
        "######     Now training      ########################\n",
        "\n",
        "deskewed = [list(map(deskew,row)) for row in train_cells]\n",
        "hogdata = [list(map(hog,row)) for row in deskewed]\n",
        "trainData = np.float32(hogdata).reshape(-1,64)\n",
        "responses = np.repeat(np.arange(10),250)[:,np.newaxis]\n",
        "\n",
        "svm = cv.ml.SVM_create()\n",
        "svm.setKernel(cv.ml.SVM_LINEAR)\n",
        "svm.setType(cv.ml.SVM_C_SVC)\n",
        "svm.setC(2.67)\n",
        "svm.setGamma(5.383)\n",
        "\n",
        "svm.train(trainData, cv.ml.ROW_SAMPLE, responses)\n",
        "svm.save('svm_data.dat')"
      ],
      "execution_count": 0,
      "outputs": []
    },
    {
      "cell_type": "code",
      "metadata": {
        "id": "knr-7IOqlMv4",
        "colab_type": "code",
        "colab": {}
      },
      "source": [
        "######     Now testing      ########################\n",
        "\n",
        "deskewed = [list(map(deskew,row)) for row in test_cells]\n",
        "hogdata = [list(map(hog,row)) for row in deskewed]\n",
        "testData = np.float32(hogdata).reshape(-1,bin_n*4)\n",
        "result = svm.predict(testData)[1]"
      ],
      "execution_count": 0,
      "outputs": []
    },
    {
      "cell_type": "code",
      "metadata": {
        "id": "S_gFYx0dlOMY",
        "colab_type": "code",
        "colab": {
          "base_uri": "https://localhost:8080/",
          "height": 35
        },
        "outputId": "dfad0ab4-838d-4725-8acc-7f84bdee7a6c"
      },
      "source": [
        "#######   Check Accuracy   ########################\n",
        "mask = result==responses\n",
        "correct = np.count_nonzero(mask)\n",
        "print('Accuracy:', correct*100.0/result.size)"
      ],
      "execution_count": 15,
      "outputs": [
        {
          "output_type": "stream",
          "text": [
            "Accuracy: 93.8\n"
          ],
          "name": "stdout"
        }
      ]
    },
    {
      "cell_type": "code",
      "metadata": {
        "id": "NAJhLbYnmiLG",
        "colab_type": "code",
        "colab": {}
      },
      "source": [
        ""
      ],
      "execution_count": 0,
      "outputs": []
    }
  ]
}