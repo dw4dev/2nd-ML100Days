{
  "nbformat": 4,
  "nbformat_minor": 0,
  "metadata": {
    "colab": {
      "name": "Day72-Activation_function_HW.ipynb",
      "version": "0.3.2",
      "provenance": [],
      "collapsed_sections": []
    },
    "language_info": {
      "codemirror_mode": {
        "name": "ipython",
        "version": 3
      },
      "file_extension": ".py",
      "mimetype": "text/x-python",
      "name": "python",
      "nbconvert_exporter": "python",
      "pygments_lexer": "ipython3",
      "version": "3.7.0"
    },
    "kernelspec": {
      "name": "python3",
      "display_name": "Python 3"
    },
    "accelerator": "TPU"
  },
  "cells": [
    {
      "cell_type": "markdown",
      "metadata": {
        "id": "BJDmhYr2waI5",
        "colab_type": "text"
      },
      "source": [
        "# 作業目標:\n",
        "    寫出 ReLU & dReLU 一階導數\n",
        "    並列印\n"
      ]
    },
    {
      "cell_type": "markdown",
      "metadata": {
        "id": "skIj8QS8waI6",
        "colab_type": "text"
      },
      "source": [
        "# 作業重點\n",
        "\n",
        "# Rectified Linear Unit- Relu \n",
        "\n",
        "f(x)=max(0,x)\n"
      ]
    },
    {
      "cell_type": "code",
      "metadata": {
        "id": "C4DUTp_mwaI7",
        "colab_type": "code",
        "colab": {}
      },
      "source": [
        "'''\n",
        "作業:\n",
        "    寫出 ReLU & dReLU 一階導數\n",
        "    並列印\n",
        "'''\n",
        "\n",
        "import numpy as np\n",
        "from numpy import *\n",
        "import matplotlib.pylab as plt\n",
        "%matplotlib inline"
      ],
      "execution_count": 0,
      "outputs": []
    },
    {
      "cell_type": "code",
      "metadata": {
        "id": "-kGsjGjvwaJB",
        "colab_type": "code",
        "colab": {}
      },
      "source": [
        "# 定義函數\n",
        "\n",
        "def ReLU(x):\n",
        "    return abs(x) * (x > 0)\n",
        "\n",
        "def dReLU(x):\n",
        "    return (1 * (x > 0))"
      ],
      "execution_count": 0,
      "outputs": []
    },
    {
      "cell_type": "code",
      "metadata": {
        "id": "fcvZ1-fiwvq2",
        "colab_type": "code",
        "colab": {
          "base_uri": "https://localhost:8080/",
          "height": 281
        },
        "outputId": "c6fb76ea-70ca-4cf9-b62c-5f805734357b"
      },
      "source": [
        "\n",
        "# linespace generate an array from start and stop value\n",
        "# with requested number of elements.\n",
        "x = plt.linspace(-10,10,100)\n",
        "\n",
        "# prepare the plot, associate the color r(ed) or b(lue) and the label \n",
        "plt.plot(x, ReLU(x), 'r')\n",
        "plt.plot(x, dReLU(x), 'b')\n",
        "\n",
        "\n",
        "# Draw the grid line in background.\n",
        "plt.grid()\n",
        "\n",
        "# Title\n",
        "plt.title('ReLU Function')\n",
        "\n",
        "# write the ReLU formula\n",
        "plt.text(-5, 9, r'$f(x)= (abs(x) * (x > 0))$', fontsize=15)\n",
        "\n",
        "# create the graph\n",
        "plt.show()"
      ],
      "execution_count": 5,
      "outputs": [
        {
          "output_type": "display_data",
          "data": {
            "image/png": "[encoded data removed]",
            "text/plain": [
              "<Figure size 432x288 with 1 Axes>"
            ]
          },
          "metadata": {
            "tags": []
          }
        }
      ]
    },
    {
      "cell_type": "code",
      "metadata": {
        "id": "0L46FDccwybP",
        "colab_type": "code",
        "colab": {}
      },
      "source": [
        ""
      ],
      "execution_count": 0,
      "outputs": []
    }
  ]
}