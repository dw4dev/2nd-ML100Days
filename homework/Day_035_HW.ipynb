{
 "cells": [
  {
   "cell_type": "markdown",
   "metadata": {},
   "source": [
    "## 練習時間\n",
    "相信大家對回歸問題及分類問題都有初步的了解。今天的作業希望大家搜尋有關 multi-label 的案例問題。下圖是電影 \"奇異博士\" 的分類。可以看到同時有 \"Action\", \"Adventure\", \"Fantasy\" 的類別存在，代表這是個多標籤的問題。 "
   ]
  },
  {
   "cell_type": "markdown",
   "metadata": {},
   "source": [
    "![image](https://cdn-images-1.medium.com/max/1000/1*r0gYXMSQf5VhdMyl2bRDyg.png)"
   ]
  },
  {
   "cell_type": "markdown",
   "metadata": {},
   "source": [
    "## 請搜尋目標為多標籤問題 (Multi-label) 的機器學習案例，了解其資料來源、目標以及評估指標為何？\n",
    "## Hint: 服飾\n",
    "\n",
    "\n",
    "> ANS：服飾就具有多標籤的特性，例如衣服的顏色、適用場合、季節、布料成分、花樣款式...等<br>\n",
    "資料來源：可以從 PCHOME、蝦皮拍賣、露天拍賣、Yahoo拍賣 ... 或是服飾專賣的網站取得。<br>\n",
    "　<br>\n",
    "　<br>\n",
    "機器學習案例：[Greek Media Monitoring Multilabel Classification (WISE 2014)](https://www.kaggle.com/c/wise-2014)<br>\n",
    "資料來源：Greek printed media.<br>\n",
    "　　　　　Raw data comes from the scanning of print media, article segmentation, <br>\n",
    "　　　　　and optical character segmentation, and therefore is quite noisy.<br>\n",
    "目標：Building multi-label classifiers for the automated annotation of articles into topics <br>\n",
    "　　　can support the work of human annotators by suggesting a list of all topics <br>\n",
    "　　　by order of relevance, or even automate the annotation process <br>\n",
    "　　　for media and/or categories that are easier to predict. <br>\n",
    "　　　This saves valuable time and allows a media monitoring company to <br>\n",
    "　　　expand the portfolio of media being monitored.<br>\n",
    "評估指標： Mean F1-Score (also known as example-based F-measure in the multi-label learning literature)<br>\n",
    "　　　$  F1 = 2\\frac{p \\cdot r}{p+r}\\ \\ \\mathrm{where}\\ \\ p = \\frac{tp}{tp+fp},\\ \\ r = \\frac{tp}{tp+fn} $\n"
   ]
  },
  {
   "cell_type": "markdown",
   "metadata": {},
   "source": [
    "## 服飾類的案例\n",
    "\n",
    "### [Clothing Item Detection for E-Commerce](https://www.kaggle.com/dataturks/clothing-item-detection-for-ecommerce)\n",
    "\n",
    "### [Women's E-Commerce Clothing Reviews](https://www.kaggle.com/nicapotato/womens-ecommerce-clothing-reviews)\n",
    "\n"
   ]
  },
  {
   "cell_type": "code",
   "execution_count": null,
   "metadata": {},
   "outputs": [],
   "source": []
  }
 ],
 "metadata": {
  "kernelspec": {
   "display_name": "Python 3",
   "language": "python",
   "name": "python3"
  },
  "language_info": {
   "codemirror_mode": {
    "name": "ipython",
    "version": 3
   },
   "file_extension": ".py",
   "mimetype": "text/x-python",
   "name": "python",
   "nbconvert_exporter": "python",
   "pygments_lexer": "ipython3",
   "version": "3.7.1"
  }
 },
 "nbformat": 4,
 "nbformat_minor": 2
}
