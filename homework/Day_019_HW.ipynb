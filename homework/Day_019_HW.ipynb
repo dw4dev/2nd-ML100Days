{
 "cells": [
  {
   "cell_type": "markdown",
   "metadata": {
    "collapsed": true
   },
   "source": [
    "# 作業 : (Kaggle)鐵達尼生存預測\n",
    "https://www.kaggle.com/c/titanic"
   ]
  },
  {
   "cell_type": "markdown",
   "metadata": {},
   "source": [
    "# [作業目標]\n",
    "- 試著模仿範例寫法, 在鐵達尼生存預測中, 觀察填補缺值以及 標準化 / 最小最大化 對數值的影響"
   ]
  },
  {
   "cell_type": "markdown",
   "metadata": {},
   "source": [
    "# [作業重點]\n",
    "- 觀察替換不同補缺方式, 對於特徵的影響 (In[4]~In[6], Out[4]~Out[6])\n",
    "- 觀察替換不同特徵縮放方式, 對於特徵的影響 (In[7]~In[8], Out[7]~Out[8])"
   ]
  },
  {
   "cell_type": "code",
   "execution_count": 1,
   "metadata": {},
   "outputs": [
    {
     "data": {
      "text/html": [
       "<div>\n",
       "<style scoped>\n",
       "    .dataframe tbody tr th:only-of-type {\n",
       "        vertical-align: middle;\n",
       "    }\n",
       "\n",
       "    .dataframe tbody tr th {\n",
       "        vertical-align: top;\n",
       "    }\n",
       "\n",
       "    .dataframe thead th {\n",
       "        text-align: right;\n",
       "    }\n",
       "</style>\n",
       "<table border=\"1\" class=\"dataframe\">\n",
       "  <thead>\n",
       "    <tr style=\"text-align: right;\">\n",
       "      <th></th>\n",
       "      <th>Pclass</th>\n",
       "      <th>Name</th>\n",
       "      <th>Sex</th>\n",
       "      <th>Age</th>\n",
       "      <th>SibSp</th>\n",
       "      <th>Parch</th>\n",
       "      <th>Ticket</th>\n",
       "      <th>Fare</th>\n",
       "      <th>Cabin</th>\n",
       "      <th>Embarked</th>\n",
       "    </tr>\n",
       "  </thead>\n",
       "  <tbody>\n",
       "    <tr>\n",
       "      <th>0</th>\n",
       "      <td>3</td>\n",
       "      <td>Braund, Mr. Owen Harris</td>\n",
       "      <td>male</td>\n",
       "      <td>22.0</td>\n",
       "      <td>1</td>\n",
       "      <td>0</td>\n",
       "      <td>A/5 21171</td>\n",
       "      <td>7.2500</td>\n",
       "      <td>NaN</td>\n",
       "      <td>S</td>\n",
       "    </tr>\n",
       "    <tr>\n",
       "      <th>1</th>\n",
       "      <td>1</td>\n",
       "      <td>Cumings, Mrs. John Bradley (Florence Briggs Th...</td>\n",
       "      <td>female</td>\n",
       "      <td>38.0</td>\n",
       "      <td>1</td>\n",
       "      <td>0</td>\n",
       "      <td>PC 17599</td>\n",
       "      <td>71.2833</td>\n",
       "      <td>C85</td>\n",
       "      <td>C</td>\n",
       "    </tr>\n",
       "    <tr>\n",
       "      <th>2</th>\n",
       "      <td>3</td>\n",
       "      <td>Heikkinen, Miss. Laina</td>\n",
       "      <td>female</td>\n",
       "      <td>26.0</td>\n",
       "      <td>0</td>\n",
       "      <td>0</td>\n",
       "      <td>STON/O2. 3101282</td>\n",
       "      <td>7.9250</td>\n",
       "      <td>NaN</td>\n",
       "      <td>S</td>\n",
       "    </tr>\n",
       "    <tr>\n",
       "      <th>3</th>\n",
       "      <td>1</td>\n",
       "      <td>Futrelle, Mrs. Jacques Heath (Lily May Peel)</td>\n",
       "      <td>female</td>\n",
       "      <td>35.0</td>\n",
       "      <td>1</td>\n",
       "      <td>0</td>\n",
       "      <td>113803</td>\n",
       "      <td>53.1000</td>\n",
       "      <td>C123</td>\n",
       "      <td>S</td>\n",
       "    </tr>\n",
       "    <tr>\n",
       "      <th>4</th>\n",
       "      <td>3</td>\n",
       "      <td>Allen, Mr. William Henry</td>\n",
       "      <td>male</td>\n",
       "      <td>35.0</td>\n",
       "      <td>0</td>\n",
       "      <td>0</td>\n",
       "      <td>373450</td>\n",
       "      <td>8.0500</td>\n",
       "      <td>NaN</td>\n",
       "      <td>S</td>\n",
       "    </tr>\n",
       "  </tbody>\n",
       "</table>\n",
       "</div>"
      ],
      "text/plain": [
       "   Pclass                                               Name     Sex   Age  \\\n",
       "0       3                            Braund, Mr. Owen Harris    male  22.0   \n",
       "1       1  Cumings, Mrs. John Bradley (Florence Briggs Th...  female  38.0   \n",
       "2       3                             Heikkinen, Miss. Laina  female  26.0   \n",
       "3       1       Futrelle, Mrs. Jacques Heath (Lily May Peel)  female  35.0   \n",
       "4       3                           Allen, Mr. William Henry    male  35.0   \n",
       "\n",
       "   SibSp  Parch            Ticket     Fare Cabin Embarked  \n",
       "0      1      0         A/5 21171   7.2500   NaN        S  \n",
       "1      1      0          PC 17599  71.2833   C85        C  \n",
       "2      0      0  STON/O2. 3101282   7.9250   NaN        S  \n",
       "3      1      0            113803  53.1000  C123        S  \n",
       "4      0      0            373450   8.0500   NaN        S  "
      ]
     },
     "execution_count": 1,
     "metadata": {},
     "output_type": "execute_result"
    }
   ],
   "source": [
    "# 做完特徵工程前的所有準備 (與前範例相同)\n",
    "import pandas as pd\n",
    "import numpy as np\n",
    "import copy\n",
    "from sklearn.preprocessing import MinMaxScaler, StandardScaler\n",
    "from sklearn.model_selection import cross_val_score\n",
    "from sklearn.linear_model import LogisticRegression\n",
    "\n",
    "data_path = '../data/Part01/'\n",
    "df_train = pd.read_csv(data_path + 'titanic_train.csv')\n",
    "df_test = pd.read_csv(data_path + 'titanic_test.csv')\n",
    "\n",
    "train_Y = df_train['Survived']\n",
    "ids = df_test['PassengerId']\n",
    "df_train = df_train.drop(['PassengerId', 'Survived'] , axis=1)\n",
    "df_test = df_test.drop(['PassengerId'] , axis=1)\n",
    "df = pd.concat([df_train,df_test])\n",
    "df.head()"
   ]
  },
  {
   "cell_type": "code",
   "execution_count": 2,
   "metadata": {},
   "outputs": [
    {
     "name": "stdout",
     "output_type": "stream",
     "text": [
      "5 Numeric Features : ['Pclass', 'Age', 'SibSp', 'Parch', 'Fare']\n",
      "\n"
     ]
    }
   ],
   "source": [
    "#只取 int64, float64 兩種數值型欄位, 存於 num_features 中\n",
    "num_features = []\n",
    "for dtype, feature in zip(df.dtypes, df.columns):\n",
    "    if dtype == 'float64' or dtype == 'int64':\n",
    "        num_features.append(feature)\n",
    "print(f'{len(num_features)} Numeric Features : {num_features}\\n')"
   ]
  },
  {
   "cell_type": "code",
   "execution_count": 3,
   "metadata": {},
   "outputs": [
    {
     "data": {
      "text/html": [
       "<div>\n",
       "<style scoped>\n",
       "    .dataframe tbody tr th:only-of-type {\n",
       "        vertical-align: middle;\n",
       "    }\n",
       "\n",
       "    .dataframe tbody tr th {\n",
       "        vertical-align: top;\n",
       "    }\n",
       "\n",
       "    .dataframe thead th {\n",
       "        text-align: right;\n",
       "    }\n",
       "</style>\n",
       "<table border=\"1\" class=\"dataframe\">\n",
       "  <thead>\n",
       "    <tr style=\"text-align: right;\">\n",
       "      <th></th>\n",
       "      <th>Pclass</th>\n",
       "      <th>Age</th>\n",
       "      <th>SibSp</th>\n",
       "      <th>Parch</th>\n",
       "      <th>Fare</th>\n",
       "    </tr>\n",
       "  </thead>\n",
       "  <tbody>\n",
       "    <tr>\n",
       "      <th>0</th>\n",
       "      <td>3</td>\n",
       "      <td>22.0</td>\n",
       "      <td>1</td>\n",
       "      <td>0</td>\n",
       "      <td>7.2500</td>\n",
       "    </tr>\n",
       "    <tr>\n",
       "      <th>1</th>\n",
       "      <td>1</td>\n",
       "      <td>38.0</td>\n",
       "      <td>1</td>\n",
       "      <td>0</td>\n",
       "      <td>71.2833</td>\n",
       "    </tr>\n",
       "    <tr>\n",
       "      <th>2</th>\n",
       "      <td>3</td>\n",
       "      <td>26.0</td>\n",
       "      <td>0</td>\n",
       "      <td>0</td>\n",
       "      <td>7.9250</td>\n",
       "    </tr>\n",
       "    <tr>\n",
       "      <th>3</th>\n",
       "      <td>1</td>\n",
       "      <td>35.0</td>\n",
       "      <td>1</td>\n",
       "      <td>0</td>\n",
       "      <td>53.1000</td>\n",
       "    </tr>\n",
       "    <tr>\n",
       "      <th>4</th>\n",
       "      <td>3</td>\n",
       "      <td>35.0</td>\n",
       "      <td>0</td>\n",
       "      <td>0</td>\n",
       "      <td>8.0500</td>\n",
       "    </tr>\n",
       "  </tbody>\n",
       "</table>\n",
       "</div>"
      ],
      "text/plain": [
       "   Pclass   Age  SibSp  Parch     Fare\n",
       "0       3  22.0      1      0   7.2500\n",
       "1       1  38.0      1      0  71.2833\n",
       "2       3  26.0      0      0   7.9250\n",
       "3       1  35.0      1      0  53.1000\n",
       "4       3  35.0      0      0   8.0500"
      ]
     },
     "execution_count": 3,
     "metadata": {},
     "output_type": "execute_result"
    }
   ],
   "source": [
    "# 削減文字型欄位, 只剩數值型欄位\n",
    "df = df[num_features]\n",
    "train_num = train_Y.shape[0]\n",
    "df.head()"
   ]
  },
  {
   "cell_type": "code",
   "execution_count": 19,
   "metadata": {},
   "outputs": [],
   "source": [
    "def get_cross_val_score(df, train_num, train_Y, _cv=5):\n",
    "    train_tempX = df[:train_num]\n",
    "    estimator_temp = LogisticRegression(solver='lbfgs')\n",
    "    cvs_temp = cross_val_score(estimator_temp, train_tempX, train_Y, cv=_cv).mean()\n",
    "    \n",
    "    return cvs_temp\n",
    "    "
   ]
  },
  {
   "cell_type": "markdown",
   "metadata": {
    "collapsed": true
   },
   "source": [
    "# 作業1\n",
    "* 試著在補空值區塊, 替換並執行兩種以上填補的缺值, 看看何者比較好?"
   ]
  },
  {
   "cell_type": "code",
   "execution_count": 27,
   "metadata": {},
   "outputs": [
    {
     "name": "stdout",
     "output_type": "stream",
     "text": [
      "[原值] ============================================================\n",
      "cross_val_score 1: 0.6982644788418415\n",
      "cross_val_score 2: 0.6959413955734954\n",
      "cross_val_score 3: 0.6993817972775958\n",
      "cross_val_score 4: 0.6926084842578535\n",
      "cross_val_score 5: 0.6993817972775958\n",
      "cross_val_score 6: 0.6970587140092496\n"
     ]
    }
   ],
   "source": [
    "# 空值補 -1, 做羅吉斯迴歸\n",
    "df_m1 = df.fillna(-1)\n",
    "#print(df_m1.head(10),\"\\n\\n\")\n",
    "train_X = df_m1[:train_num]\n",
    "estimator = LogisticRegression(solver='lbfgs')\n",
    "cvs1 = cross_val_score(estimator, train_X, train_Y, cv=5).mean()\n",
    "\n",
    "\n",
    "\"\"\"\n",
    "Your Code Here\n",
    "\"\"\"\n",
    "# 空值補 平均數，做邏輯斯迴歸\n",
    "df_m2 = df.fillna(df.mean())\n",
    "cvs2 = get_cross_val_score(df_m2\n",
    "                           ,train_num, train_Y)\n",
    "\n",
    "# 空值補 0，做邏輯斯迴歸\n",
    "df_m3 = df.fillna(0)\n",
    "cvs3 = get_cross_val_score(df_m3\n",
    "                           ,train_num, train_Y)\n",
    "\n",
    "# 空值補 標準差，做邏輯斯迴歸\n",
    "df_m4 = df.fillna(df.std())\n",
    "cvs4 = get_cross_val_score(df_m4\n",
    "                           ,train_num, train_Y)\n",
    "\n",
    "# 空值補 1，做邏輯斯迴歸\n",
    "df_m5 = df.fillna(1)\n",
    "cvs5 = get_cross_val_score(df_m5 \n",
    "                           ,train_num, train_Y)\n",
    "\n",
    "# 空值補 中位數，做邏輯斯迴歸\n",
    "df_m6 = df.fillna(df.median())\n",
    "cvs6 = get_cross_val_score(df_m6\n",
    "                           ,train_num, train_Y)\n",
    "\n",
    "\n",
    "print('[原值]','='*60)\n",
    "print(f'cross_val_score 1: {cvs1}')\n",
    "print(f'cross_val_score 2: {cvs2}')\n",
    "print(f'cross_val_score 3: {cvs3}')\n",
    "print(f'cross_val_score 4: {cvs4}')\n",
    "print(f'cross_val_score 5: {cvs5}')\n",
    "print(f'cross_val_score 6: {cvs6}')"
   ]
  },
  {
   "cell_type": "markdown",
   "metadata": {
    "collapsed": true
   },
   "source": [
    "# 作業2\n",
    "* 使用不同的標準化方式 ( 原值 / 最小最大化 / 標準化 )，搭配羅吉斯迴歸模型，何者效果最好?\n",
    "\n",
    "> ANS：<font color=\"blue\">目前比較起來，再經過 最小最大化`MinMaxScaler()` 後的結果比較好。</font>"
   ]
  },
  {
   "cell_type": "code",
   "execution_count": 30,
   "metadata": {},
   "outputs": [
    {
     "name": "stdout",
     "output_type": "stream",
     "text": [
      "[最大最小化] ============================================================\n",
      "cross_val_score with MinMaxScaler 1: 0.7005053927832138\n",
      "cross_val_score with MinMaxScaler 2: 0.6993439220763837\n",
      "cross_val_score with MinMaxScaler 3: 0.7038636251603401\n",
      "cross_val_score with MinMaxScaler 4: 0.7015974610848266\n",
      "cross_val_score with MinMaxScaler 5: 0.7049872206659581\n",
      "cross_val_score with MinMaxScaler 6: 0.700461240512138\n"
     ]
    }
   ],
   "source": [
    "\"\"\"\n",
    "Your Code Here\n",
    "\"\"\"\n",
    "\n",
    "# 將數值再進行 最小最大化\n",
    "cvs1mms = get_cross_val_score(MinMaxScaler().fit_transform(df_m1.astype('float'))\n",
    "                           ,train_num, train_Y)\n",
    "\n",
    "cvs2mms = get_cross_val_score(MinMaxScaler().fit_transform(df_m2.astype('float'))\n",
    "                           ,train_num, train_Y)\n",
    "\n",
    "cvs3mms = get_cross_val_score(MinMaxScaler().fit_transform(df_m3.astype('float'))\n",
    "                           ,train_num, train_Y)\n",
    "\n",
    "cvs4mms = get_cross_val_score(MinMaxScaler().fit_transform(df_m4.astype('float'))\n",
    "                           ,train_num, train_Y)\n",
    "\n",
    "cvs5mms = get_cross_val_score(MinMaxScaler().fit_transform(df_m5.astype('float'))\n",
    "                           ,train_num, train_Y)\n",
    "\n",
    "cvs6mms = get_cross_val_score(MinMaxScaler().fit_transform(df_m6.astype('float'))\n",
    "                           ,train_num, train_Y)\n",
    "\n",
    "\n",
    "print('[最大最小化]','='*60)\n",
    "print(f'cross_val_score with MinMaxScaler 1: {cvs1mms}')\n",
    "print(f'cross_val_score with MinMaxScaler 2: {cvs2mms}')\n",
    "print(f'cross_val_score with MinMaxScaler 3: {cvs3mms}')\n",
    "print(f'cross_val_score with MinMaxScaler 4: {cvs4mms}')\n",
    "print(f'cross_val_score with MinMaxScaler 5: {cvs5mms}')\n",
    "print(f'cross_val_score with MinMaxScaler 6: {cvs6mms}')\n"
   ]
  },
  {
   "cell_type": "code",
   "execution_count": 29,
   "metadata": {},
   "outputs": [
    {
     "name": "stdout",
     "output_type": "stream",
     "text": [
      "[標準化] ============================================================\n",
      "cross_val_score with StandardScaler 1: 0.6982582017719778\n",
      "cross_val_score with StandardScaler 2: 0.6959413955734954\n",
      "cross_val_score with StandardScaler 3: 0.6982582017719778\n",
      "cross_val_score with StandardScaler 4: 0.6937320797634714\n",
      "cross_val_score with StandardScaler 5: 0.6971346062663598\n",
      "cross_val_score with StandardScaler 6: 0.6970587140092496\n"
     ]
    }
   ],
   "source": [
    "# 將數值再進行 標準化\n",
    "\n",
    "cvs1std = get_cross_val_score(StandardScaler().fit_transform(df_m1.astype('float'))\n",
    "                           ,train_num, train_Y)\n",
    "\n",
    "cvs2std = get_cross_val_score(StandardScaler().fit_transform(df_m2.astype('float'))\n",
    "                           ,train_num, train_Y)\n",
    "\n",
    "cvs3std = get_cross_val_score(StandardScaler().fit_transform(df_m3.astype('float'))\n",
    "                           ,train_num, train_Y)\n",
    "\n",
    "cvs4std = get_cross_val_score(StandardScaler().fit_transform(df_m4.astype('float'))\n",
    "                           ,train_num, train_Y)\n",
    "\n",
    "cvs5std = get_cross_val_score(StandardScaler().fit_transform(df_m5.astype('float'))\n",
    "                           ,train_num, train_Y)\n",
    "\n",
    "cvs6std = get_cross_val_score(StandardScaler().fit_transform(df_m6.astype('float'))\n",
    "                           ,train_num, train_Y)\n",
    "\n",
    "\n",
    "print('[標準化]','='*60)\n",
    "print(f'cross_val_score with StandardScaler 1: {cvs1std}')\n",
    "print(f'cross_val_score with StandardScaler 2: {cvs2std}')\n",
    "print(f'cross_val_score with StandardScaler 3: {cvs3std}')\n",
    "print(f'cross_val_score with StandardScaler 4: {cvs4std}')\n",
    "print(f'cross_val_score with StandardScaler 5: {cvs5std}')\n",
    "print(f'cross_val_score with StandardScaler 6: {cvs6std}')\n"
   ]
  },
  {
   "cell_type": "code",
   "execution_count": null,
   "metadata": {},
   "outputs": [],
   "source": []
  }
 ],
 "metadata": {
  "kernelspec": {
   "display_name": "Python 3",
   "language": "python",
   "name": "python3"
  },
  "language_info": {
   "codemirror_mode": {
    "name": "ipython",
    "version": 3
   },
   "file_extension": ".py",
   "mimetype": "text/x-python",
   "name": "python",
   "nbconvert_exporter": "python",
   "pygments_lexer": "ipython3",
   "version": "3.7.1"
  }
 },
 "nbformat": 4,
 "nbformat_minor": 2
}
