{
  "nbformat": 4,
  "nbformat_minor": 0,
  "metadata": {
    "colab": {
      "name": "Day078_HW.ipynb",
      "version": "0.3.2",
      "provenance": [],
      "collapsed_sections": []
    },
    "language_info": {
      "codemirror_mode": {
        "name": "ipython",
        "version": 3
      },
      "file_extension": ".py",
      "mimetype": "text/x-python",
      "name": "python",
      "nbconvert_exporter": "python",
      "pygments_lexer": "ipython3",
      "version": "3.6.5"
    },
    "kernelspec": {
      "name": "python3",
      "display_name": "Python 3"
    },
    "accelerator": "GPU"
  },
  "cells": [
    {
      "cell_type": "markdown",
      "metadata": {
        "id": "PUdRqMonnREq",
        "colab_type": "text"
      },
      "source": [
        "## Work\n",
        "1. 請嘗試將 preproc_x 替換成以每筆資料的 min/max 進行標準化至 -1 ~ 1 間，再進行訓練\n",
        "2. 請嘗試將 mlp 疊更深 (e.g 5~10 層)，進行訓練後觀察 learning curve 的走勢\n",
        "3. (optional) 請改用 GPU 進行訓練 (如果你有 GPU 的話)，比較使用 CPU 與 GPU 的訓練速度"
      ]
    },
    {
      "cell_type": "code",
      "metadata": {
        "id": "ZRnhk3Z4nREr",
        "colab_type": "code",
        "colab": {
          "base_uri": "https://localhost:8080/",
          "height": 326
        },
        "outputId": "4f8ec198-89bc-4a84-df9d-578ad7a8fc12"
      },
      "source": [
        "## \n",
        "\"\"\"\n",
        "Your code here (optional)\n",
        "確認硬體資源\n",
        "\"\"\"\n",
        "!nvidia-smi"
      ],
      "execution_count": 1,
      "outputs": [
        {
          "output_type": "stream",
          "text": [
            "Fri Jul 12 23:56:40 2019       \n",
            "+-----------------------------------------------------------------------------+\n",
            "| NVIDIA-SMI 418.67       Driver Version: 410.79       CUDA Version: 10.0     |\n",
            "|-------------------------------+----------------------+----------------------+\n",
            "| GPU  Name        Persistence-M| Bus-Id        Disp.A | Volatile Uncorr. ECC |\n",
            "| Fan  Temp  Perf  Pwr:Usage/Cap|         Memory-Usage | GPU-Util  Compute M. |\n",
            "|===============================+======================+======================|\n",
            "|   0  Tesla T4            Off  | 00000000:00:04.0 Off |                    0 |\n",
            "| N/A   45C    P8    16W /  70W |      0MiB / 15079MiB |      0%      Default |\n",
            "+-------------------------------+----------------------+----------------------+\n",
            "                                                                               \n",
            "+-----------------------------------------------------------------------------+\n",
            "| Processes:                                                       GPU Memory |\n",
            "|  GPU       PID   Type   Process name                             Usage      |\n",
            "|=============================================================================|\n",
            "|  No running processes found                                                 |\n",
            "+-----------------------------------------------------------------------------+\n"
          ],
          "name": "stdout"
        }
      ]
    },
    {
      "cell_type": "code",
      "metadata": {
        "id": "wMpaQ-zInREu",
        "colab_type": "code",
        "colab": {
          "base_uri": "https://localhost:8080/",
          "height": 35
        },
        "outputId": "7c4583b1-46cd-4088-f53c-e0838d0303c3"
      },
      "source": [
        "import os\n",
        "import keras\n",
        "\n",
        "# 請嘗試設定 GPU：os.environ\n",
        "os.environ[\"CUDA_DEVICE_ORDER\"]=\"PCI_BUS_ID\" # 設定 smi 看到的 GPU ID 符合實際設定的順序 (若一台機器有多張不同型號的卡時，會有此類問題)\n",
        "os.environ[\"CUDA_VISIBLE_DEVICES\"] = \"5\""
      ],
      "execution_count": 2,
      "outputs": [
        {
          "output_type": "stream",
          "text": [
            "Using TensorFlow backend.\n"
          ],
          "name": "stderr"
        }
      ]
    },
    {
      "cell_type": "code",
      "metadata": {
        "id": "G3cpe07pnRE0",
        "colab_type": "code",
        "colab": {
          "base_uri": "https://localhost:8080/",
          "height": 54
        },
        "outputId": "753f481a-55fe-4153-9fcc-84a6a7ac4167"
      },
      "source": [
        "train, test = keras.datasets.cifar10.load_data()"
      ],
      "execution_count": 4,
      "outputs": [
        {
          "output_type": "stream",
          "text": [
            "Downloading data from https://www.cs.toronto.edu/~kriz/cifar-10-python.tar.gz\n",
            "170500096/170498071 [==============================] - 2s 0us/step\n"
          ],
          "name": "stdout"
        }
      ]
    },
    {
      "cell_type": "code",
      "metadata": {
        "id": "p8nu9njbnRE2",
        "colab_type": "code",
        "colab": {}
      },
      "source": [
        "## 資料前處理\n",
        "\"\"\"\n",
        "Your code here\n",
        "\"\"\"\n",
        "def preproc_x(x, flatten=True):\n",
        "    x = 2*(((x - x.min()) / (x.max() - x.min()))-0.5)\n",
        "    if flatten:\n",
        "        x = x.reshape((len(x), -1))\n",
        "    return x\n",
        "\n",
        "def preproc_y(y, num_classes=10):\n",
        "    if y.shape[-1] == 1:\n",
        "        y = keras.utils.to_categorical(y, num_classes)\n",
        "    return y"
      ],
      "execution_count": 0,
      "outputs": []
    },
    {
      "cell_type": "code",
      "metadata": {
        "id": "9HPE-mdVnRE4",
        "colab_type": "code",
        "colab": {}
      },
      "source": [
        "x_train, y_train = train\n",
        "x_test, y_test = test\n",
        "\n",
        "# Preproc the inputs\n",
        "x_train = preproc_x(x_train)\n",
        "x_test = preproc_x(x_test)\n",
        "\n",
        "# Preprc the outputs\n",
        "y_train = preproc_y(y_train)\n",
        "y_test = preproc_y(y_test)"
      ],
      "execution_count": 0,
      "outputs": []
    },
    {
      "cell_type": "code",
      "metadata": {
        "id": "MM8gpN1-nRE7",
        "colab_type": "code",
        "colab": {
          "base_uri": "https://localhost:8080/",
          "height": 435
        },
        "outputId": "327a4915-8335-4b2f-fbd1-cc7c42ccc72c"
      },
      "source": [
        "\"\"\"Code Here\n",
        "建立你的神經網路\n",
        "\"\"\"\n",
        "def build_mlp(input_shape, output_units=10, num_neurons=[512, 256, 128, 128, 128, 64]):\n",
        "    input_layer = keras.layers.Input(input_shape)\n",
        "    \n",
        "    for i, n_units in enumerate(num_neurons):\n",
        "        if i == 0:\n",
        "            x = keras.layers.Dense(units=n_units, activation=\"relu\", name=\"hidden_layer\"+str(i+1))(input_layer)\n",
        "        else:\n",
        "            x = keras.layers.Dense(units=n_units, activation=\"relu\", name=\"hidden_layer\"+str(i+1))(x)\n",
        "    \n",
        "    out = keras.layers.Dense(units=output_units, activation=\"softmax\", name=\"output\")(x)\n",
        "    \n",
        "    model = keras.models.Model(inputs=[input_layer], outputs=[out])\n",
        "    return model\n",
        "\n",
        "\n",
        "model = build_mlp(input_shape=x_train.shape[1:])\n",
        "model.summary()"
      ],
      "execution_count": 11,
      "outputs": [
        {
          "output_type": "stream",
          "text": [
            "_________________________________________________________________\n",
            "Layer (type)                 Output Shape              Param #   \n",
            "=================================================================\n",
            "input_2 (InputLayer)         (None, 3072)              0         \n",
            "_________________________________________________________________\n",
            "hidden_layer1 (Dense)        (None, 512)               1573376   \n",
            "_________________________________________________________________\n",
            "hidden_layer2 (Dense)        (None, 256)               131328    \n",
            "_________________________________________________________________\n",
            "hidden_layer3 (Dense)        (None, 128)               32896     \n",
            "_________________________________________________________________\n",
            "hidden_layer4 (Dense)        (None, 128)               16512     \n",
            "_________________________________________________________________\n",
            "hidden_layer5 (Dense)        (None, 128)               16512     \n",
            "_________________________________________________________________\n",
            "hidden_layer6 (Dense)        (None, 64)                8256      \n",
            "_________________________________________________________________\n",
            "output (Dense)               (None, 10)                650       \n",
            "=================================================================\n",
            "Total params: 1,779,530\n",
            "Trainable params: 1,779,530\n",
            "Non-trainable params: 0\n",
            "_________________________________________________________________\n"
          ],
          "name": "stdout"
        }
      ]
    },
    {
      "cell_type": "code",
      "metadata": {
        "id": "pePJLDNwnRE-",
        "colab_type": "code",
        "colab": {}
      },
      "source": [
        "## 超參數設定\n",
        "LEARNING_RATE = 0.001\n",
        "EPOCHS = 100\n",
        "BATCH_SIZE = 256"
      ],
      "execution_count": 0,
      "outputs": []
    },
    {
      "cell_type": "code",
      "metadata": {
        "id": "D7mqhJYxnRFA",
        "colab_type": "code",
        "colab": {}
      },
      "source": [
        "optimizer = keras.optimizers.Adam(lr=LEARNING_RATE)\n",
        "model.compile(loss=\"categorical_crossentropy\", metrics=[\"accuracy\"], optimizer=optimizer)"
      ],
      "execution_count": 0,
      "outputs": []
    },
    {
      "cell_type": "code",
      "metadata": {
        "id": "ybQwd-GYnRFD",
        "colab_type": "code",
        "colab": {
          "base_uri": "https://localhost:8080/",
          "height": 1000
        },
        "outputId": "26230df9-720c-4771-dc84-9dd1c704e805"
      },
      "source": [
        "model.fit(x_train, y_train, \n",
        "          epochs=EPOCHS, \n",
        "          batch_size=BATCH_SIZE, \n",
        "          validation_data=(x_test, y_test), \n",
        "          shuffle=True)"
      ],
      "execution_count": 14,
      "outputs": [
        {
          "output_type": "stream",
          "text": [
            "W0713 00:02:43.218263 140647248414592 deprecation.py:323] From /usr/local/lib/python3.6/dist-packages/tensorflow/python/ops/math_grad.py:1250: add_dispatch_support.<locals>.wrapper (from tensorflow.python.ops.array_ops) is deprecated and will be removed in a future version.\n",
            "Instructions for updating:\n",
            "Use tf.where in 2.0, which has the same broadcast rule as np.where\n",
            "W0713 00:02:43.284686 140647248414592 deprecation_wrapper.py:119] From /usr/local/lib/python3.6/dist-packages/keras/backend/tensorflow_backend.py:986: The name tf.assign_add is deprecated. Please use tf.compat.v1.assign_add instead.\n",
            "\n"
          ],
          "name": "stderr"
        },
        {
          "output_type": "stream",
          "text": [
            "Train on 50000 samples, validate on 10000 samples\n",
            "Epoch 1/100\n",
            "50000/50000 [==============================] - 13s 256us/step - loss: 1.7043 - acc: 0.3903 - val_loss: 1.5222 - val_acc: 0.4625\n",
            "Epoch 2/100\n",
            "50000/50000 [==============================] - 12s 237us/step - loss: 1.4794 - acc: 0.4758 - val_loss: 1.4539 - val_acc: 0.4814\n",
            "Epoch 3/100\n",
            "50000/50000 [==============================] - 12s 235us/step - loss: 1.3570 - acc: 0.5172 - val_loss: 1.4038 - val_acc: 0.5062\n",
            "Epoch 4/100\n",
            "50000/50000 [==============================] - 12s 239us/step - loss: 1.2643 - acc: 0.5532 - val_loss: 1.3789 - val_acc: 0.5176\n",
            "Epoch 5/100\n",
            "50000/50000 [==============================] - 12s 234us/step - loss: 1.1816 - acc: 0.5830 - val_loss: 1.3607 - val_acc: 0.5264\n",
            "Epoch 6/100\n",
            "50000/50000 [==============================] - 12s 232us/step - loss: 1.1073 - acc: 0.6083 - val_loss: 1.3474 - val_acc: 0.5296\n",
            "Epoch 7/100\n",
            "50000/50000 [==============================] - 12s 232us/step - loss: 1.0319 - acc: 0.6328 - val_loss: 1.3885 - val_acc: 0.5263\n",
            "Epoch 8/100\n",
            "50000/50000 [==============================] - 12s 232us/step - loss: 0.9670 - acc: 0.6583 - val_loss: 1.3830 - val_acc: 0.5411\n",
            "Epoch 9/100\n",
            "50000/50000 [==============================] - 12s 232us/step - loss: 0.8993 - acc: 0.6806 - val_loss: 1.4153 - val_acc: 0.5365\n",
            "Epoch 10/100\n",
            "50000/50000 [==============================] - 12s 235us/step - loss: 0.8383 - acc: 0.7031 - val_loss: 1.4454 - val_acc: 0.5466\n",
            "Epoch 11/100\n",
            "50000/50000 [==============================] - 12s 230us/step - loss: 0.7783 - acc: 0.7200 - val_loss: 1.4597 - val_acc: 0.5400\n",
            "Epoch 12/100\n",
            "50000/50000 [==============================] - 11s 229us/step - loss: 0.7179 - acc: 0.7443 - val_loss: 1.5292 - val_acc: 0.5360\n",
            "Epoch 13/100\n",
            "50000/50000 [==============================] - 12s 233us/step - loss: 0.6627 - acc: 0.7632 - val_loss: 1.6297 - val_acc: 0.5355\n",
            "Epoch 14/100\n",
            "50000/50000 [==============================] - 12s 235us/step - loss: 0.6067 - acc: 0.7838 - val_loss: 1.6351 - val_acc: 0.5419\n",
            "Epoch 15/100\n",
            "50000/50000 [==============================] - 11s 225us/step - loss: 0.5614 - acc: 0.8004 - val_loss: 1.7326 - val_acc: 0.5322\n",
            "Epoch 16/100\n",
            "50000/50000 [==============================] - 11s 223us/step - loss: 0.5076 - acc: 0.8209 - val_loss: 1.8769 - val_acc: 0.5393\n",
            "Epoch 17/100\n",
            "50000/50000 [==============================] - 11s 222us/step - loss: 0.4824 - acc: 0.8289 - val_loss: 1.8586 - val_acc: 0.5295\n",
            "Epoch 18/100\n",
            "50000/50000 [==============================] - 11s 225us/step - loss: 0.4463 - acc: 0.8405 - val_loss: 1.9242 - val_acc: 0.5303\n",
            "Epoch 19/100\n",
            "50000/50000 [==============================] - 11s 227us/step - loss: 0.4022 - acc: 0.8584 - val_loss: 2.1686 - val_acc: 0.5393\n",
            "Epoch 20/100\n",
            "50000/50000 [==============================] - 11s 227us/step - loss: 0.3795 - acc: 0.8638 - val_loss: 2.0516 - val_acc: 0.5351\n",
            "Epoch 21/100\n",
            "50000/50000 [==============================] - 11s 228us/step - loss: 0.3550 - acc: 0.8746 - val_loss: 2.2788 - val_acc: 0.5210\n",
            "Epoch 22/100\n",
            "50000/50000 [==============================] - 11s 223us/step - loss: 0.3334 - acc: 0.8819 - val_loss: 2.2656 - val_acc: 0.5295\n",
            "Epoch 23/100\n",
            "50000/50000 [==============================] - 11s 222us/step - loss: 0.3295 - acc: 0.8837 - val_loss: 2.1895 - val_acc: 0.5275\n",
            "Epoch 24/100\n",
            "50000/50000 [==============================] - 11s 222us/step - loss: 0.2752 - acc: 0.9036 - val_loss: 2.4650 - val_acc: 0.5341\n",
            "Epoch 25/100\n",
            "50000/50000 [==============================] - 11s 222us/step - loss: 0.2755 - acc: 0.9043 - val_loss: 2.4751 - val_acc: 0.5346\n",
            "Epoch 26/100\n",
            "50000/50000 [==============================] - 11s 222us/step - loss: 0.2634 - acc: 0.9077 - val_loss: 2.5549 - val_acc: 0.5272\n",
            "Epoch 27/100\n",
            "50000/50000 [==============================] - 11s 225us/step - loss: 0.2587 - acc: 0.9104 - val_loss: 2.5623 - val_acc: 0.5393\n",
            "Epoch 28/100\n",
            "50000/50000 [==============================] - 11s 223us/step - loss: 0.2314 - acc: 0.9198 - val_loss: 2.6409 - val_acc: 0.5374\n",
            "Epoch 29/100\n",
            "50000/50000 [==============================] - 11s 222us/step - loss: 0.2215 - acc: 0.9232 - val_loss: 2.6298 - val_acc: 0.5259\n",
            "Epoch 30/100\n",
            "50000/50000 [==============================] - 11s 222us/step - loss: 0.2114 - acc: 0.9273 - val_loss: 2.8154 - val_acc: 0.5246\n",
            "Epoch 31/100\n",
            "50000/50000 [==============================] - 11s 223us/step - loss: 0.2087 - acc: 0.9276 - val_loss: 2.7335 - val_acc: 0.5398\n",
            "Epoch 32/100\n",
            "50000/50000 [==============================] - 11s 225us/step - loss: 0.2094 - acc: 0.9283 - val_loss: 2.8146 - val_acc: 0.5276\n",
            "Epoch 33/100\n",
            "50000/50000 [==============================] - 11s 224us/step - loss: 0.1887 - acc: 0.9347 - val_loss: 2.9984 - val_acc: 0.5307\n",
            "Epoch 34/100\n",
            "50000/50000 [==============================] - 11s 225us/step - loss: 0.1937 - acc: 0.9346 - val_loss: 2.8571 - val_acc: 0.5287\n",
            "Epoch 35/100\n",
            "50000/50000 [==============================] - 11s 226us/step - loss: 0.1765 - acc: 0.9384 - val_loss: 2.8738 - val_acc: 0.5401\n",
            "Epoch 36/100\n",
            "50000/50000 [==============================] - 11s 223us/step - loss: 0.1679 - acc: 0.9427 - val_loss: 3.0320 - val_acc: 0.5303\n",
            "Epoch 37/100\n",
            "50000/50000 [==============================] - 11s 223us/step - loss: 0.1753 - acc: 0.9400 - val_loss: 2.9622 - val_acc: 0.5293\n",
            "Epoch 38/100\n",
            "50000/50000 [==============================] - 11s 222us/step - loss: 0.1602 - acc: 0.9450 - val_loss: 3.0495 - val_acc: 0.5379\n",
            "Epoch 39/100\n",
            "50000/50000 [==============================] - 11s 225us/step - loss: 0.1581 - acc: 0.9466 - val_loss: 3.1012 - val_acc: 0.5307\n",
            "Epoch 40/100\n",
            "50000/50000 [==============================] - 11s 223us/step - loss: 0.1620 - acc: 0.9446 - val_loss: 3.0397 - val_acc: 0.5314\n",
            "Epoch 41/100\n",
            "50000/50000 [==============================] - 11s 226us/step - loss: 0.1397 - acc: 0.9525 - val_loss: 3.1699 - val_acc: 0.5344\n",
            "Epoch 42/100\n",
            "50000/50000 [==============================] - 11s 227us/step - loss: 0.1480 - acc: 0.9509 - val_loss: 3.0850 - val_acc: 0.5284\n",
            "Epoch 43/100\n",
            "50000/50000 [==============================] - 11s 222us/step - loss: 0.1442 - acc: 0.9509 - val_loss: 3.0945 - val_acc: 0.5325\n",
            "Epoch 44/100\n",
            "50000/50000 [==============================] - 11s 221us/step - loss: 0.1377 - acc: 0.9535 - val_loss: 3.3038 - val_acc: 0.5338\n",
            "Epoch 45/100\n",
            "50000/50000 [==============================] - 11s 219us/step - loss: 0.1353 - acc: 0.9542 - val_loss: 3.2134 - val_acc: 0.5271\n",
            "Epoch 46/100\n",
            "50000/50000 [==============================] - 11s 218us/step - loss: 0.1241 - acc: 0.9579 - val_loss: 3.3376 - val_acc: 0.5248\n",
            "Epoch 47/100\n",
            "50000/50000 [==============================] - 11s 219us/step - loss: 0.1376 - acc: 0.9535 - val_loss: 3.3861 - val_acc: 0.5279\n",
            "Epoch 48/100\n",
            "50000/50000 [==============================] - 11s 221us/step - loss: 0.1341 - acc: 0.9556 - val_loss: 3.2482 - val_acc: 0.5288\n",
            "Epoch 49/100\n",
            "50000/50000 [==============================] - 11s 225us/step - loss: 0.1170 - acc: 0.9613 - val_loss: 3.3384 - val_acc: 0.5337\n",
            "Epoch 50/100\n",
            "50000/50000 [==============================] - 11s 224us/step - loss: 0.1295 - acc: 0.9577 - val_loss: 3.2675 - val_acc: 0.5296\n",
            "Epoch 51/100\n",
            "50000/50000 [==============================] - 11s 223us/step - loss: 0.1211 - acc: 0.9606 - val_loss: 3.3776 - val_acc: 0.5297\n",
            "Epoch 52/100\n",
            "50000/50000 [==============================] - 11s 223us/step - loss: 0.1181 - acc: 0.9610 - val_loss: 3.3407 - val_acc: 0.5341\n",
            "Epoch 53/100\n",
            "50000/50000 [==============================] - 11s 223us/step - loss: 0.1068 - acc: 0.9643 - val_loss: 3.3917 - val_acc: 0.5259\n",
            "Epoch 54/100\n",
            "50000/50000 [==============================] - 11s 223us/step - loss: 0.1213 - acc: 0.9606 - val_loss: 3.3368 - val_acc: 0.5361\n",
            "Epoch 55/100\n",
            "50000/50000 [==============================] - 11s 223us/step - loss: 0.1087 - acc: 0.9641 - val_loss: 3.3268 - val_acc: 0.5271\n",
            "Epoch 56/100\n",
            "50000/50000 [==============================] - 11s 223us/step - loss: 0.1111 - acc: 0.9625 - val_loss: 3.2978 - val_acc: 0.5275\n",
            "Epoch 57/100\n",
            "50000/50000 [==============================] - 11s 224us/step - loss: 0.1186 - acc: 0.9610 - val_loss: 3.3538 - val_acc: 0.5264\n",
            "Epoch 58/100\n",
            "50000/50000 [==============================] - 11s 224us/step - loss: 0.1008 - acc: 0.9680 - val_loss: 3.4382 - val_acc: 0.5260\n",
            "Epoch 59/100\n",
            "50000/50000 [==============================] - 11s 222us/step - loss: 0.1064 - acc: 0.9642 - val_loss: 3.4649 - val_acc: 0.5331\n",
            "Epoch 60/100\n",
            "50000/50000 [==============================] - 11s 222us/step - loss: 0.1137 - acc: 0.9625 - val_loss: 3.4182 - val_acc: 0.5309\n",
            "Epoch 61/100\n",
            "50000/50000 [==============================] - 11s 225us/step - loss: 0.0917 - acc: 0.9689 - val_loss: 3.6389 - val_acc: 0.5253\n",
            "Epoch 62/100\n",
            "50000/50000 [==============================] - 11s 224us/step - loss: 0.1143 - acc: 0.9625 - val_loss: 3.3940 - val_acc: 0.5272\n",
            "Epoch 63/100\n",
            "50000/50000 [==============================] - 11s 223us/step - loss: 0.0921 - acc: 0.9695 - val_loss: 3.5697 - val_acc: 0.5327\n",
            "Epoch 64/100\n",
            "50000/50000 [==============================] - 11s 225us/step - loss: 0.0855 - acc: 0.9720 - val_loss: 3.5397 - val_acc: 0.5373\n",
            "Epoch 65/100\n",
            "50000/50000 [==============================] - 11s 222us/step - loss: 0.0925 - acc: 0.9684 - val_loss: 3.5855 - val_acc: 0.5300\n",
            "Epoch 66/100\n",
            "50000/50000 [==============================] - 11s 223us/step - loss: 0.1030 - acc: 0.9667 - val_loss: 3.3229 - val_acc: 0.5200\n",
            "Epoch 67/100\n",
            "50000/50000 [==============================] - 11s 222us/step - loss: 0.1006 - acc: 0.9679 - val_loss: 3.4830 - val_acc: 0.5221\n",
            "Epoch 68/100\n",
            "50000/50000 [==============================] - 11s 224us/step - loss: 0.0936 - acc: 0.9692 - val_loss: 3.5622 - val_acc: 0.5246\n",
            "Epoch 69/100\n",
            "50000/50000 [==============================] - 11s 227us/step - loss: 0.0929 - acc: 0.9694 - val_loss: 3.5193 - val_acc: 0.5224\n",
            "Epoch 70/100\n",
            "50000/50000 [==============================] - 11s 225us/step - loss: 0.0849 - acc: 0.9722 - val_loss: 3.5804 - val_acc: 0.5242\n",
            "Epoch 71/100\n",
            "50000/50000 [==============================] - 11s 227us/step - loss: 0.0948 - acc: 0.9692 - val_loss: 3.5669 - val_acc: 0.5261\n",
            "Epoch 72/100\n",
            "50000/50000 [==============================] - 11s 226us/step - loss: 0.0911 - acc: 0.9701 - val_loss: 3.5308 - val_acc: 0.5289\n",
            "Epoch 73/100\n",
            "50000/50000 [==============================] - 11s 225us/step - loss: 0.0892 - acc: 0.9710 - val_loss: 3.6143 - val_acc: 0.5328\n",
            "Epoch 74/100\n",
            "50000/50000 [==============================] - 11s 228us/step - loss: 0.0870 - acc: 0.9723 - val_loss: 3.5414 - val_acc: 0.5323\n",
            "Epoch 75/100\n",
            "50000/50000 [==============================] - 11s 222us/step - loss: 0.0760 - acc: 0.9745 - val_loss: 3.4303 - val_acc: 0.5260\n",
            "Epoch 76/100\n",
            "50000/50000 [==============================] - 11s 220us/step - loss: 0.0845 - acc: 0.9727 - val_loss: 3.6335 - val_acc: 0.5294\n",
            "Epoch 77/100\n",
            "50000/50000 [==============================] - 11s 222us/step - loss: 0.0797 - acc: 0.9742 - val_loss: 3.5878 - val_acc: 0.5236\n",
            "Epoch 78/100\n",
            "50000/50000 [==============================] - 11s 223us/step - loss: 0.0940 - acc: 0.9699 - val_loss: 3.5539 - val_acc: 0.5334\n",
            "Epoch 79/100\n",
            "50000/50000 [==============================] - 11s 221us/step - loss: 0.0791 - acc: 0.9745 - val_loss: 3.5150 - val_acc: 0.5317\n",
            "Epoch 80/100\n",
            "50000/50000 [==============================] - 11s 222us/step - loss: 0.0858 - acc: 0.9718 - val_loss: 3.6209 - val_acc: 0.5298\n",
            "Epoch 81/100\n",
            "50000/50000 [==============================] - 11s 223us/step - loss: 0.0869 - acc: 0.9720 - val_loss: 3.5133 - val_acc: 0.5358\n",
            "Epoch 82/100\n",
            "50000/50000 [==============================] - 11s 223us/step - loss: 0.0707 - acc: 0.9771 - val_loss: 3.7679 - val_acc: 0.5256\n",
            "Epoch 83/100\n",
            "50000/50000 [==============================] - 11s 221us/step - loss: 0.0922 - acc: 0.9708 - val_loss: 3.4916 - val_acc: 0.5346\n",
            "Epoch 84/100\n",
            "50000/50000 [==============================] - 11s 221us/step - loss: 0.0685 - acc: 0.9771 - val_loss: 3.5841 - val_acc: 0.5332\n",
            "Epoch 85/100\n",
            "50000/50000 [==============================] - 11s 222us/step - loss: 0.0736 - acc: 0.9763 - val_loss: 3.6580 - val_acc: 0.5283\n",
            "Epoch 86/100\n",
            "50000/50000 [==============================] - 11s 219us/step - loss: 0.0777 - acc: 0.9754 - val_loss: 3.5396 - val_acc: 0.5294\n",
            "Epoch 87/100\n",
            "50000/50000 [==============================] - 11s 217us/step - loss: 0.0781 - acc: 0.9746 - val_loss: 3.7257 - val_acc: 0.5279\n",
            "Epoch 88/100\n",
            "50000/50000 [==============================] - 11s 223us/step - loss: 0.0773 - acc: 0.9764 - val_loss: 3.5624 - val_acc: 0.5199\n",
            "Epoch 89/100\n",
            "50000/50000 [==============================] - 12s 235us/step - loss: 0.0742 - acc: 0.9755 - val_loss: 3.6992 - val_acc: 0.5295\n",
            "Epoch 90/100\n",
            "50000/50000 [==============================] - 11s 225us/step - loss: 0.0659 - acc: 0.9791 - val_loss: 3.7479 - val_acc: 0.5361\n",
            "Epoch 91/100\n",
            "50000/50000 [==============================] - 12s 238us/step - loss: 0.0667 - acc: 0.9784 - val_loss: 3.7764 - val_acc: 0.5314\n",
            "Epoch 92/100\n",
            "50000/50000 [==============================] - 12s 237us/step - loss: 0.0773 - acc: 0.9751 - val_loss: 3.5394 - val_acc: 0.5334\n",
            "Epoch 93/100\n",
            "50000/50000 [==============================] - 11s 229us/step - loss: 0.0711 - acc: 0.9778 - val_loss: 3.6479 - val_acc: 0.5216\n",
            "Epoch 94/100\n",
            "50000/50000 [==============================] - 11s 223us/step - loss: 0.0764 - acc: 0.9754 - val_loss: 3.5658 - val_acc: 0.5327\n",
            "Epoch 95/100\n",
            "50000/50000 [==============================] - 11s 222us/step - loss: 0.0725 - acc: 0.9765 - val_loss: 3.7155 - val_acc: 0.5242\n",
            "Epoch 96/100\n",
            "50000/50000 [==============================] - 11s 226us/step - loss: 0.0700 - acc: 0.9778 - val_loss: 3.7598 - val_acc: 0.5359\n",
            "Epoch 97/100\n",
            "50000/50000 [==============================] - 11s 226us/step - loss: 0.0585 - acc: 0.9812 - val_loss: 3.8766 - val_acc: 0.5299\n",
            "Epoch 98/100\n",
            "50000/50000 [==============================] - 11s 222us/step - loss: 0.0633 - acc: 0.9802 - val_loss: 3.7256 - val_acc: 0.5347\n",
            "Epoch 99/100\n",
            "50000/50000 [==============================] - 11s 225us/step - loss: 0.0665 - acc: 0.9791 - val_loss: 3.6660 - val_acc: 0.5342\n",
            "Epoch 100/100\n",
            "50000/50000 [==============================] - 11s 224us/step - loss: 0.0758 - acc: 0.9758 - val_loss: 3.5405 - val_acc: 0.5308\n"
          ],
          "name": "stdout"
        },
        {
          "output_type": "execute_result",
          "data": {
            "text/plain": [
              "<keras.callbacks.History at 0x7feab17c8748>"
            ]
          },
          "metadata": {
            "tags": []
          },
          "execution_count": 14
        }
      ]
    },
    {
      "cell_type": "code",
      "metadata": {
        "id": "ugf0-CNanRFG",
        "colab_type": "code",
        "colab": {
          "base_uri": "https://localhost:8080/",
          "height": 545
        },
        "outputId": "9ac5c280-6c6e-4b3d-ded7-bb04c0d66fe4"
      },
      "source": [
        "import matplotlib.pyplot as plt\n",
        "\n",
        "\n",
        "train_loss = model.history.history[\"loss\"]\n",
        "valid_loss = model.history.history[\"val_loss\"]\n",
        "\n",
        "train_acc = model.history.history[\"acc\"]\n",
        "valid_acc = model.history.history[\"val_acc\"]\n",
        "\n",
        "plt.plot(range(len(train_loss)), train_loss, label=\"train loss\")\n",
        "plt.plot(range(len(valid_loss)), valid_loss, label=\"valid loss\")\n",
        "plt.legend()\n",
        "plt.title(\"Loss\")\n",
        "plt.show()\n",
        "\n",
        "plt.plot(range(len(train_acc)), train_acc, label=\"train accuracy\")\n",
        "plt.plot(range(len(valid_acc)), valid_acc, label=\"valid accuracy\")\n",
        "plt.legend()\n",
        "plt.title(\"Accuracy\")\n",
        "plt.show()"
      ],
      "execution_count": 15,
      "outputs": [
        {
          "output_type": "display_data",
          "data": {
            "image/png": "[encoded data removed]",
            "text/plain": [
              "<Figure size 432x288 with 1 Axes>"
            ]
          },
          "metadata": {
            "tags": []
          }
        },
        {
          "output_type": "display_data",
          "data": {
            "image/png": "[encoded data removed]",
            "text/plain": [
              "<Figure size 432x288 with 1 Axes>"
            ]
          },
          "metadata": {
            "tags": []
          }
        }
      ]
    }
  ]
}