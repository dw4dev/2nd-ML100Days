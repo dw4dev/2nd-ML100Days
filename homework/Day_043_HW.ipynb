{
 "cells": [
  {
   "cell_type": "markdown",
   "metadata": {},
   "source": [
    "## [作業重點]\n",
    "了解隨機森林改善了決策樹的什麼缺點？是用什麼方法改進的？"
   ]
  },
  {
   "cell_type": "markdown",
   "metadata": {},
   "source": [
    "## 作業\n",
    "\n",
    "閱讀以下兩篇文獻，了解隨機森林原理，並試著回答後續的思考問題\n",
    "- [隨機森林 (random forest) - 中文](http://hhtucode.blogspot.tw/2013/06/ml-random-forest.html)\n",
    "- [how random forest works - 英文](https://medium.com/@Synced/how-random-forest-algorithm-works-in-machine-learning-3c0fe15b6674)"
   ]
  },
  {
   "cell_type": "markdown",
   "metadata": {},
   "source": [
    "\n",
    "1. 隨機森林中的每一棵樹，是希望能夠\n",
    "\n",
    "    - 沒有任何限制，讓樹可以持續生長 (讓樹生成很深，讓模型變得複雜)\n",
    "    \n",
    "    - 不要過度生長，避免 Overfitting\n",
    "    \n",
    "    \n",
    "2. 假設總共有 N 筆資料，每棵樹用取後放回的方式抽了總共 N 筆資料生成，請問這棵樹大約使用了多少 % 不重複的原資料生成?\n",
    "hint: 0.632 bootstrap\n"
   ]
  },
  {
   "cell_type": "markdown",
   "metadata": {},
   "source": [
    "### ANS1:\n",
    "\n",
    "> 隨機森林希望每棵樹都能夠盡量複雜，然後再通過投票的方式，處理過擬合的問題。<br>\n",
    "因此希望每棵樹都能夠盡量的生長\n",
    "\n",
    "\n",
    "### ANS2:\n",
    "\n",
    "> 這是傳統的統計問題，採用取後放回的方式，抽取與資料量同樣大小的 N 筆資料，<br>\n",
    "約會使用 63.2 % 的原生資料(0.632自助法)。\n",
    "\n",
    "### Bootstrap抽樣\n",
    "> Bootstrap就是從給定的資料裡面 再次重複抽樣出一筆一樣大小的資料<br>\n",
    "(允許同樣的一個資料點被抽到很多次: sample with replacement)，<br>\n",
    "每一次Bootstrap都會產生一筆新的資料 而我們可以用這筆新資料去得到一個新的估計式，<br>\n",
    "不斷地使用Bootstrap 我們就可以得到好幾個估計值，<br>\n",
    "利用這些Bootstrap估計值 我們就能計算估計式的變異大小。<br>\n",
    "\n",
    "> 有多種自助方法，最常用的是 .632自助法。方法如下：<br>\n",
    "假設給定的數據集包含d個元組，該數據集有放回的抽樣d次，產生d個樣本的自助樣本集或訓練集。<br>\n",
    "原始數據元組中的某些元組很可能在該樣本集中出現多次。沒有進入該訓練集的數據元組最終形成檢驗集。<br>\n",
    "假設進行這樣的抽樣多次。其結果是：<br>\n",
    "在平均情況下，63.2%原始數據元組將出現在自助樣本中，而其他36.8%的元組將形成檢驗集。"
   ]
  },
  {
   "cell_type": "code",
   "execution_count": null,
   "metadata": {},
   "outputs": [],
   "source": []
  }
 ],
 "metadata": {
  "kernelspec": {
   "display_name": "Python 3",
   "language": "python",
   "name": "python3"
  },
  "language_info": {
   "codemirror_mode": {
    "name": "ipython",
    "version": 3
   },
   "file_extension": ".py",
   "mimetype": "text/x-python",
   "name": "python",
   "nbconvert_exporter": "python",
   "pygments_lexer": "ipython3",
   "version": "3.7.1"
  }
 },
 "nbformat": 4,
 "nbformat_minor": 2
}
