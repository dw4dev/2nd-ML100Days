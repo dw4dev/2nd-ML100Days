{
  "nbformat": 4,
  "nbformat_minor": 0,
  "metadata": {
    "kernelspec": {
      "display_name": "Python 3",
      "language": "python",
      "name": "python3"
    },
    "language_info": {
      "codemirror_mode": {
        "name": "ipython",
        "version": 3
      },
      "file_extension": ".py",
      "mimetype": "text/x-python",
      "name": "python",
      "nbconvert_exporter": "python",
      "pygments_lexer": "ipython3",
      "version": "3.6.8"
    },
    "colab": {
      "name": "Day_094-CNN_Convolution_HW.ipynb",
      "version": "0.3.2",
      "provenance": [],
      "collapsed_sections": []
    }
  },
  "cells": [
    {
      "cell_type": "markdown",
      "metadata": {
        "id": "DVzZpfHgDAKz",
        "colab_type": "text"
      },
      "source": [
        "# 作業目標:\n",
        "    了解 Convolution 卷積的組成"
      ]
    },
    {
      "cell_type": "markdown",
      "metadata": {
        "id": "a1Bx7W2nDAK0",
        "colab_type": "text"
      },
      "source": [
        "# 作業重點:\n",
        "    修改 a_slice_prev, 檢查 Z 的輸出"
      ]
    },
    {
      "cell_type": "code",
      "metadata": {
        "id": "NA2aqoA3DAK1",
        "colab_type": "code",
        "colab": {}
      },
      "source": [
        "import numpy as np"
      ],
      "execution_count": 0,
      "outputs": []
    },
    {
      "cell_type": "code",
      "metadata": {
        "id": "1EoT1J7dDAK5",
        "colab_type": "code",
        "colab": {}
      },
      "source": [
        "# GRADED FUNCTION: conv_single_step\n",
        "def conv_single_step(a_slice_prev, W, b):\n",
        "    \"\"\"\n",
        "    定義一層 Kernel (內核), 使用的參數說明如下\n",
        "    Arguments:\n",
        "        a_slice_prev -- 輸入資料的維度\n",
        "        W -- 權重, 被使用在 a_slice_prev\n",
        "        b -- 偏差參數 \n",
        "    Returns:\n",
        "        Z -- 滑動窗口（W，b）卷積在前一個 feature map 上的結果\n",
        "    \"\"\"\n",
        "\n",
        "    # 定義一個元素介於 a_slice and W\n",
        "    s = a_slice_prev * W\n",
        "    # 加總所有的 \"s\" 並指定給Z.\n",
        "    Z = np.sum(s)\n",
        "    # Add bias b to Z. 這是 float() 函數,\n",
        "    Z = float(Z + b)\n",
        "\n",
        "    return Z"
      ],
      "execution_count": 0,
      "outputs": []
    },
    {
      "cell_type": "code",
      "metadata": {
        "id": "fuw-Pxa3DAK8",
        "colab_type": "code",
        "colab": {
          "base_uri": "https://localhost:8080/",
          "height": 35
        },
        "outputId": "75a9bd3e-0572-4190-8ad6-938881945b1f"
      },
      "source": [
        "np.random.seed(1)\n",
        "\n",
        "\n",
        "#定義一個 a*a*d 的 feature map\n",
        "a_slice_prev = np.random.randn(16, 16, 1)\n",
        "W = np.random.randn(16, 16, 1)\n",
        "b = np.random.randn(1, 1, 1)\n",
        "\n",
        "#取得計算後,卷積矩陣的值\n",
        "Z = conv_single_step(a_slice_prev, W, b)\n",
        "print(\"Z =\", Z)"
      ],
      "execution_count": 3,
      "outputs": [
        {
          "output_type": "stream",
          "text": [
            "Z = 11.954675594834528\n"
          ],
          "name": "stdout"
        }
      ]
    },
    {
      "cell_type": "code",
      "metadata": {
        "id": "Xb19vznqDLgq",
        "colab_type": "code",
        "colab": {
          "base_uri": "https://localhost:8080/",
          "height": 35
        },
        "outputId": "db83f472-07a0-4170-bb5f-e0b8de8a66f4"
      },
      "source": [
        "#定義一個 a*a*d 的 feature map\n",
        "a_slice_prev = np.random.randn(32, 32, 3)\n",
        "W = np.random.randn(32, 32, 3)\n",
        "b = np.random.randn(1, 1, 1)\n",
        "\n",
        "#取得計算後,卷積矩陣的值\n",
        "Z = conv_single_step(a_slice_prev, W, b)\n",
        "print(\"Z =\", Z)"
      ],
      "execution_count": 4,
      "outputs": [
        {
          "output_type": "stream",
          "text": [
            "Z = 25.830183098841772\n"
          ],
          "name": "stdout"
        }
      ]
    },
    {
      "cell_type": "code",
      "metadata": {
        "id": "7jYfMnpJDNY6",
        "colab_type": "code",
        "colab": {
          "base_uri": "https://localhost:8080/",
          "height": 35
        },
        "outputId": "f3721c94-f0e5-4e0c-a3c0-0297289a4107"
      },
      "source": [
        "#定義一個 a*a*d 的 feature map\n",
        "a_slice_prev = np.random.randn(2, 2, 1)\n",
        "W = np.random.randn(2, 2, 1)\n",
        "b = np.random.randn(1, 1, 1)\n",
        "\n",
        "#取得計算後,卷積矩陣的值\n",
        "Z = conv_single_step(a_slice_prev, W, b)\n",
        "print(\"Z =\", Z)"
      ],
      "execution_count": 5,
      "outputs": [
        {
          "output_type": "stream",
          "text": [
            "Z = -5.658139277676642\n"
          ],
          "name": "stdout"
        }
      ]
    },
    {
      "cell_type": "code",
      "metadata": {
        "id": "J_PmdWBMDWQh",
        "colab_type": "code",
        "colab": {
          "base_uri": "https://localhost:8080/",
          "height": 35
        },
        "outputId": "ea1e4868-5ec2-4957-a9be-80e9fad5a160"
      },
      "source": [
        "#定義一個 a*a*d 的 feature map\n",
        "a_slice_prev = np.random.randn(128, 128, 1)\n",
        "W = np.random.randn(128, 128, 1)\n",
        "b = np.random.randn(1, 1, 1)\n",
        "\n",
        "#取得計算後,卷積矩陣的值\n",
        "Z = conv_single_step(a_slice_prev, W, b)\n",
        "print(\"Z =\", Z)"
      ],
      "execution_count": 11,
      "outputs": [
        {
          "output_type": "stream",
          "text": [
            "Z = -23.22545901519495\n"
          ],
          "name": "stdout"
        }
      ]
    }
  ]
}