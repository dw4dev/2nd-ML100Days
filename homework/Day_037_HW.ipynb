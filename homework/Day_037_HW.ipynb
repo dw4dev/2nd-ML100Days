{
 "cells": [
  {
   "cell_type": "markdown",
   "metadata": {},
   "source": [
    "## [作業重點]\n",
    "了解線性回歸的模型發展歷程，並了解優勢與劣勢，以及其使用情境"
   ]
  },
  {
   "cell_type": "markdown",
   "metadata": {},
   "source": [
    "## 作業"
   ]
  },
  {
   "cell_type": "markdown",
   "metadata": {},
   "source": [
    "請閱讀以下相關文獻，並回答以下問題\n",
    "\n",
    "[Linear Regression 詳細介紹](https://medium.com/@yehjames/%E8%B3%87%E6%96%99%E5%88%86%E6%9E%90-%E6%A9%9F%E5%99%A8%E5%AD%B8%E7%BF%92-%E7%AC%AC3-3%E8%AC%9B-%E7%B7%9A%E6%80%A7%E5%88%86%E9%A1%9E-%E9%82%8F%E8%BC%AF%E6%96%AF%E5%9B%9E%E6%AD%B8-logistic-regression-%E4%BB%8B%E7%B4%B9-a1a5f47017e5)\n",
    "\n",
    "[Logistics Regression 詳細介紹](https://medium.com/@yehjames/%E8%B3%87%E6%96%99%E5%88%86%E6%9E%90-%E6%A9%9F%E5%99%A8%E5%AD%B8%E7%BF%92-%E7%AC%AC3-3%E8%AC%9B-%E7%B7%9A%E6%80%A7%E5%88%86%E9%A1%9E-%E9%82%8F%E8%BC%AF%E6%96%AF%E5%9B%9E%E6%AD%B8-logistic-regression-%E4%BB%8B%E7%B4%B9-a1a5f47017e5)\n"
   ]
  },
  {
   "cell_type": "markdown",
   "metadata": {},
   "source": [
    "1. 線性回歸模型能夠準確預測非線性關係的資料集嗎?\n",
    "2. 回歸模型是否對資料分布有基本假設?\n"
   ]
  },
  {
   "cell_type": "markdown",
   "metadata": {},
   "source": [
    "### ANS1:\n",
    "\n",
    "> 在實際問題中，當變數之間的相關關係不是線性相關關係時，不能用線性回歸方程描述它們之間的相關關係，<br>\n",
    "需要進行非線性回歸分析，然而，非線性回歸方程一般很難求，因此，把非線性回歸化為線性回歸應該說是解決問題的好方法。<br>\n",
    "\n",
    "> 遇到非線性回歸問題可以藉助數學手段化為線性回歸問題處理。<br>\n",
    "<br>\n",
    "處理方法：<br>\n",
    "<br>\n",
    "**可線性化問題**<br>\n",
    "處理可線性化處理的非線性回歸的基本方法是，通過變量變換，將非線性回歸化為線性回歸，然後用線性回歸方法處理。<br>\n",
    "假定根據理論或經驗，已獲得輸出變量與輸入變量之間的非線性表達式，<br>\n",
    "但表達式的係數是未知的，要根據輸入輸出的n次觀察結果來確定係數的值。<br>\n",
    "按最小二乘法原理來求出係數值，所得到的模型為非線性回歸模型(nonlinear regression model)。\n",
    "<br>\n",
    "**不可線性化問題**<br>\n",
    "對實際科學研究中常遇到不可線性處理的非線性回歸問題，提出了一種新的解決方法。<br>\n",
    "該方法是基於回歸問題的最小二乘法，在求誤差平方和最小的極值問題上，<br>\n",
    "應用了最優化方法中對無約束極值問題的一種數學解法——單純形法。<br>\n",
    "應用結果證明，這種非線性回歸的方法算法比較簡單,收斂效果和收斂速度都比較理想。\n",
    "\n",
    "\n",
    "### ANS2:\n",
    "\n",
    "> 在使用迴歸分析前，必須要確認資料是否符合迴歸分析的基本統計假設，否則，<br>\n",
    "當資料違反迴歸分析的基本統計假設時，會導致統計推論偏誤的發生。<br>\n",
    "<br>\n",
    "迴歸分析的基本統計假設有下列四項：<br>\n",
    "<br>\n",
    "**線性關係**<br>\n",
    "依變數和自變數之間的關係必須是線性，也就是說，依變數與自變數存在著相當固定比率的關係，<br>\n",
    "若是發現依變數與自變數呈現非線性關係時，可以透過轉換(transform)成線性關係，再進行迴歸分析。<br>\n",
    "<br>\n",
    "**常態性(normality)**<br>\n",
    "若是資料呈現常態分配 (normal distribution)，則誤差項也會呈現同樣的分配，<br>\n",
    "當樣本數夠大時，檢查的方式是使用簡單的 Histogram (直方圖)，<br>\n",
    "若是樣本數較小時，檢查的方式是使用 normal probability plot (常態機率圖)。<br>\n",
    "<br>\n",
    "**誤差項的獨立性**<br>\n",
    "自變數的誤差項，相互之間應該是獨立的，也就是誤差項與誤差項之間没有相互關係，<br>\n",
    "否則，在估計迴歸參數時，會降低統計的檢定力，我們可以藉由殘差(Residuals)的圖形分析來檢查，<br>\n",
    "尤其是與時間序列和事件相關的資料，特別需要注意去處理。<br>\n",
    "<br>\n",
    "**誤差項的變異數相等(Homoscedasticity)**<br>\n",
    "自變數的誤差項除了需要呈現常態性分配外，其變量數也需要相等，<br>\n",
    "變量數的不相等(heteroscedasticity)會導致自變數無法有效的估計應變數，<br>\n",
    "例如：殘差分佈分析時，所呈現的三角形分佈和鑽石分佈，在 spss 軟體中，<br>\n",
    "我們可以使用 Levene test，來測試變異數的一致性，當變異數的不相等發生時，<br>\n",
    "我們可以透過轉換(transform)成變異數的相等後，再進行迴歸分析。 <br>\n",
    "\n"
   ]
  },
  {
   "cell_type": "code",
   "execution_count": null,
   "metadata": {},
   "outputs": [],
   "source": []
  }
 ],
 "metadata": {
  "kernelspec": {
   "display_name": "Python 3",
   "language": "python",
   "name": "python3"
  },
  "language_info": {
   "codemirror_mode": {
    "name": "ipython",
    "version": 3
   },
   "file_extension": ".py",
   "mimetype": "text/x-python",
   "name": "python",
   "nbconvert_exporter": "python",
   "pygments_lexer": "ipython3",
   "version": "3.7.1"
  }
 },
 "nbformat": 4,
 "nbformat_minor": 2
}
