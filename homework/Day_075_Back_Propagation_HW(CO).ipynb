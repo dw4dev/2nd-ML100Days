{
  "nbformat": 4,
  "nbformat_minor": 0,
  "metadata": {
    "colab": {
      "name": "Day75-Back_Propagation_HW.ipynb",
      "version": "0.3.2",
      "provenance": [],
      "collapsed_sections": []
    },
    "language_info": {
      "codemirror_mode": {
        "name": "ipython",
        "version": 3
      },
      "file_extension": ".py",
      "mimetype": "text/x-python",
      "name": "python",
      "nbconvert_exporter": "python",
      "pygments_lexer": "ipython3",
      "version": "3.7.0"
    },
    "kernelspec": {
      "name": "python3",
      "display_name": "Python 3"
    },
    "accelerator": "TPU"
  },
  "cells": [
    {
      "cell_type": "markdown",
      "metadata": {
        "id": "WMSoR85fBkeh",
        "colab_type": "text"
      },
      "source": [
        "# 作業目標:\n",
        "\n",
        "    通過建立多層的神經網路, 了解權值矩陣更新"
      ]
    },
    {
      "cell_type": "markdown",
      "metadata": {
        "id": "E-ITYYO-Bkei",
        "colab_type": "text"
      },
      "source": [
        "# 作業重點: \n",
        "\n",
        "3  層神經網路\n",
        "\n",
        "通過增加更多的中間層，以對更多關係的組合進行建模\n",
        "\n",
        "syn1 權值矩陣將隱層的組合輸出映射到最終結果，\n",
        "\n",
        "而在更新 syn1 的同時，還需要更新 syn0 權值矩陣，\n",
        "\n",
        "以從輸入資料中更好地產生這些組合"
      ]
    },
    {
      "cell_type": "code",
      "metadata": {
        "id": "uWJvBAttBkej",
        "colab_type": "code",
        "colab": {}
      },
      "source": [
        "import numpy as np\n",
        " \n",
        "# Sigmoid 函數可以將任何值都映射到一個位於 0 到  1 範圍內的值。通過它，我們可以將實數轉化為概率值\n",
        "'''\n",
        "定義數學函數:\n",
        "y=f(x) = 1/(1+np.exp(-x));\n",
        "dy/dx = df = x*(1-x) \n",
        "\n",
        "為了計算方便, 這邊把 y=f(x) 與 dy/dx 放在同一function 裡面;\n",
        "利用 deriv (derivative)做變數, 來分別指定方程式\n",
        "\n",
        "'''    \n",
        "def nonlin(x,deriv=False):\n",
        "    if(deriv==True):\n",
        "        return x*(1-x)\n",
        "    return 1/(1+np.exp(-x))\n",
        "\n",
        "# 參數定義\n",
        "# X 輸入資料集，形式為矩陣，每 1 行代表 1 個訓練樣本。\n",
        "# y 輸出資料集，形式為矩陣，每 1 行代表 1 個訓練樣本。\n",
        "X = np.array([  [0,0,1],\n",
        "                [0,1,1],\n",
        "                [1,0,1],\n",
        "                [1,1,1] ])  \n",
        "        \n",
        "# define y for output dataset            \n",
        "y = np.array([[0],\n",
        "            [1],\n",
        "            [1],\n",
        "            [0]])\n",
        " "
      ],
      "execution_count": 0,
      "outputs": []
    },
    {
      "cell_type": "code",
      "metadata": {
        "id": "_PEcb9UtBkem",
        "colab_type": "code",
        "colab": {}
      },
      "source": [
        "\n",
        "# seed random numbers to make calculation\n",
        "# deterministic (just a good practice)\n",
        "np.random.seed(1)\n",
        "#亂數設定產生種子得到的權重初始化集仍是隨機分佈的，\n",
        "#但每次開始訓練時，得到的權重初始集分佈都是完全一致的。\n",
        " \n",
        "# initialize weights randomly with mean 0\n",
        "syn0 = 2*np.random.random((3,4)) - 1\n",
        "# define syn1\n",
        "syn1 = 2*np.random.random((4,1)) - 1\n",
        "\n",
        "iter = 0\n",
        "#該神經網路權重矩陣的初始化操作。\n",
        "#用 “syn0” 來代指 (即“輸入層-第一層隱層”間權重矩陣）\n",
        "#用 “syn1” 來代指 (即“輸入層-第二層隱層”間權重矩陣）\n",
        "syn0_history = [syn0]\n",
        "syn1_history = [syn1]\n"
      ],
      "execution_count": 0,
      "outputs": []
    },
    {
      "cell_type": "markdown",
      "metadata": {
        "id": "M6awxErDBkeo",
        "colab_type": "text"
      },
      "source": [
        "神經網路訓練\n",
        "for 迴圈反覆運算式地多次執行訓練代碼，使得我們的網路能更好地擬合訓練集"
      ]
    },
    {
      "cell_type": "code",
      "metadata": {
        "id": "Smw_wW9hBkep",
        "colab_type": "code",
        "colab": {
          "base_uri": "https://localhost:8080/",
          "height": 454
        },
        "outputId": "d7559f6f-a80f-4635-fb52-8fd569d59cd8"
      },
      "source": [
        "for iter in range(60000):\n",
        "    # forward propagation\n",
        "    l0 = X\n",
        "    l1 = nonlin(np.dot(l0,syn0))\n",
        "    l2 = nonlin(np.dot(l1,syn1))\n",
        "    \n",
        "    '''\n",
        "    新增\n",
        "    l2_error 該值說明了神經網路預測時“丟失”的數目。\n",
        "    l2_delta 該值為經確信度加權後的神經網路的誤差，除了確信誤差很小時，它近似等於預測誤差。\n",
        "    '''\n",
        " \n",
        "    # how much did we miss?\n",
        "    \n",
        "    l2_error = y - l2\n",
        "    \n",
        "    if (iter % 10000) == 0:\n",
        "        print(\"L2_Error:\" + str(np.mean(np.abs(l2_error))))\n",
        "    \n",
        "    l2_delta = l2_error*nonlin(l2,deriv=True)\n",
        "    \n",
        "    # l1_error = y - l1\n",
        "    l1_error = l2_delta.dot(syn1.T)\n",
        "    if (iter % 10000) == 0:\n",
        "        print(\"L1_Error:\" + str(np.mean(np.abs(l1_error))))\n",
        "    \n",
        "    # multiply how much we missed by the \n",
        "    # slope of the sigmoid at the values in l1\n",
        "    l1_delta = l1_error * nonlin(l1,True)\n",
        "    \n",
        "    \n",
        "    # update weights\n",
        "    syn0 += np.dot(l0.T,l1_delta)\n",
        "    \n",
        "    # syn1 update weights\n",
        "    syn1 += l1.T.dot(l2_delta)\n",
        "    syn0 += l0.T.dot(l1_delta)\n",
        "    \n",
        "    syn1_history.append(syn1)\n",
        "    syn0_history.append(syn0)\n",
        "    \n",
        "print(\"Output After Training:\")\n",
        "print(l1)\n",
        "print(\"\\n\\n\")\n",
        "print(l2)"
      ],
      "execution_count": 16,
      "outputs": [
        {
          "output_type": "stream",
          "text": [
            "L2_Error:0.4964100319027255\n",
            "L1_Error:0.08131810260532474\n",
            "L2_Error:0.0074943014737789\n",
            "L1_Error:0.00038750711232106146\n",
            "L2_Error:0.005120567868409091\n",
            "L1_Error:0.00018872330058977363\n",
            "L2_Error:0.004124902592687578\n",
            "L1_Error:0.00012527830606760913\n",
            "L2_Error:0.003545838880065646\n",
            "L1_Error:9.401249362677007e-05\n",
            "L2_Error:0.00315646041319047\n",
            "L1_Error:7.53708975408945e-05\n",
            "Output After Training:\n",
            "[[7.96059875e-01 6.08981075e-02 9.43967487e-01 9.98208427e-01]\n",
            " [9.41179385e-02 5.08232892e-05 1.09781633e-02 9.29522820e-01]\n",
            " [9.99113675e-01 9.40212089e-01 1.66284297e-02 8.25207527e-01]\n",
            " [9.67746137e-01 1.21754779e-02 1.11412938e-05 1.00520891e-01]]\n",
            "\n",
            "\n",
            "\n",
            "[[0.00228741]\n",
            " [0.9967708 ]\n",
            " [0.99750039]\n",
            " [0.0034715 ]]\n"
          ],
          "name": "stdout"
        }
      ]
    },
    {
      "cell_type": "code",
      "metadata": {
        "id": "x0lHzScTBker",
        "colab_type": "code",
        "colab": {
          "base_uri": "https://localhost:8080/",
          "height": 289
        },
        "outputId": "2399ae3f-b882-419a-922e-1b7376c5974a"
      },
      "source": [
        "import matplotlib.pyplot as plt\n",
        "\n",
        "%matplotlib inline \n",
        "#適用於 Jupyter Notebook, 宣告直接在cell 內印出執行結果\n",
        "\n",
        "plt.plot(syn0_history[0], ms=3, lw=1.5, color='black')\n",
        "plt.xlabel(r'$L1$', fontsize=16)\n",
        "plt.show()"
      ],
      "execution_count": 17,
      "outputs": [
        {
          "output_type": "display_data",
          "data": {
            "image/png": "[encoded data removed]",
            "text/plain": [
              "<Figure size 432x288 with 1 Axes>"
            ]
          },
          "metadata": {
            "tags": []
          }
        }
      ]
    },
    {
      "cell_type": "code",
      "metadata": {
        "id": "gPAgzjqAP-TF",
        "colab_type": "code",
        "colab": {
          "base_uri": "https://localhost:8080/",
          "height": 289
        },
        "outputId": "4021dcb5-5df2-4e9b-e40b-769f8561d31f"
      },
      "source": [
        "plt.plot(syn1_history[0], 'o-', ms=3, lw=1.5, color='pink')\n",
        "plt.xlabel(r'$L2$', fontsize=16)\n",
        "plt.show()"
      ],
      "execution_count": 18,
      "outputs": [
        {
          "output_type": "display_data",
          "data": {
            "image/png": "[encoded data removed]",
            "text/plain": [
              "<Figure size 432x288 with 1 Axes>"
            ]
          },
          "metadata": {
            "tags": []
          }
        }
      ]
    },
    {
      "cell_type": "code",
      "metadata": {
        "id": "spGnn5shQA0_",
        "colab_type": "code",
        "colab": {
          "base_uri": "https://localhost:8080/",
          "height": 108
        },
        "outputId": "3361d95e-ddc0-41b6-bcf2-44fa7e71a44a"
      },
      "source": [
        "print(\"Output After Training (根據 L1):\")\n",
        "print(l1)"
      ],
      "execution_count": 19,
      "outputs": [
        {
          "output_type": "stream",
          "text": [
            "Output After Training (根據 L1):\n",
            "[[7.96059875e-01 6.08981075e-02 9.43967487e-01 9.98208427e-01]\n",
            " [9.41179385e-02 5.08232892e-05 1.09781633e-02 9.29522820e-01]\n",
            " [9.99113675e-01 9.40212089e-01 1.66284297e-02 8.25207527e-01]\n",
            " [9.67746137e-01 1.21754779e-02 1.11412938e-05 1.00520891e-01]]\n"
          ],
          "name": "stdout"
        }
      ]
    },
    {
      "cell_type": "code",
      "metadata": {
        "id": "V8XeTdTrQCmv",
        "colab_type": "code",
        "colab": {
          "base_uri": "https://localhost:8080/",
          "height": 108
        },
        "outputId": "f06b116e-58b5-40d7-f7eb-7cb7cdfab730"
      },
      "source": [
        "print(\"Output After Training (根據 L2):\")\n",
        "print(l2)"
      ],
      "execution_count": 20,
      "outputs": [
        {
          "output_type": "stream",
          "text": [
            "Output After Training (根據 L2):\n",
            "[[0.00228741]\n",
            " [0.9967708 ]\n",
            " [0.99750039]\n",
            " [0.0034715 ]]\n"
          ],
          "name": "stdout"
        }
      ]
    },
    {
      "cell_type": "code",
      "metadata": {
        "id": "E6ZvfEm2QEBW",
        "colab_type": "code",
        "colab": {}
      },
      "source": [
        ""
      ],
      "execution_count": 0,
      "outputs": []
    }
  ]
}