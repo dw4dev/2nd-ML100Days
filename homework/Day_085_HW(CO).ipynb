{
  "nbformat": 4,
  "nbformat_minor": 0,
  "metadata": {
    "kernelspec": {
      "name": "python3",
      "display_name": "Python 3"
    },
    "language_info": {
      "codemirror_mode": {
        "name": "ipython",
        "version": 3
      },
      "file_extension": ".py",
      "mimetype": "text/x-python",
      "name": "python",
      "nbconvert_exporter": "python",
      "pygments_lexer": "ipython3",
      "version": "3.6.5"
    },
    "colab": {
      "name": "Day_085_HW.ipynb",
      "version": "0.3.2",
      "provenance": [],
      "collapsed_sections": []
    },
    "accelerator": "GPU"
  },
  "cells": [
    {
      "cell_type": "markdown",
      "metadata": {
        "id": "mruOGQs3efHP",
        "colab_type": "text"
      },
      "source": [
        "## Work\n",
        "1. 試改變 monitor \"Validation Accuracy\" 並比較結果\n",
        "2. 調整 earlystop 的等待次數至 10, 25 並比較結果"
      ]
    },
    {
      "cell_type": "code",
      "metadata": {
        "id": "E0MB_gsXefHQ",
        "colab_type": "code",
        "colab": {
          "base_uri": "https://localhost:8080/",
          "height": 35
        },
        "outputId": "c49fffad-c69d-4bb8-bc85-d1ef185f8af3"
      },
      "source": [
        "import os\n",
        "import keras\n",
        "import matplotlib.pyplot as plt\n",
        "%matplotlib inline\n",
        "\n",
        "\n",
        "# Disable GPU\n",
        "os.environ[\"CUDA_VISIBLE_DEVICES\"] = \"0\""
      ],
      "execution_count": 1,
      "outputs": [
        {
          "output_type": "stream",
          "text": [
            "Using TensorFlow backend.\n"
          ],
          "name": "stderr"
        }
      ]
    },
    {
      "cell_type": "code",
      "metadata": {
        "id": "n5b1UyTKefHU",
        "colab_type": "code",
        "colab": {}
      },
      "source": [
        "train, test = keras.datasets.cifar10.load_data()"
      ],
      "execution_count": 0,
      "outputs": []
    },
    {
      "cell_type": "code",
      "metadata": {
        "id": "tD9uXjIdefHW",
        "colab_type": "code",
        "colab": {}
      },
      "source": [
        "## 資料前處理\n",
        "def preproc_x(x, flatten=True):\n",
        "    x = x / 255.\n",
        "    if flatten:\n",
        "        x = x.reshape((len(x), -1))\n",
        "    return x\n",
        "\n",
        "def preproc_y(y, num_classes=10):\n",
        "    if y.shape[-1] == 1:\n",
        "        y = keras.utils.to_categorical(y, num_classes)\n",
        "    return y    "
      ],
      "execution_count": 0,
      "outputs": []
    },
    {
      "cell_type": "code",
      "metadata": {
        "id": "XzLGBeiCefHY",
        "colab_type": "code",
        "colab": {}
      },
      "source": [
        "x_train, y_train = train\n",
        "x_test, y_test = test\n",
        "\n",
        "# Preproc the inputs\n",
        "x_train = preproc_x(x_train)\n",
        "x_test = preproc_x(x_test)\n",
        "\n",
        "# Preprc the outputs\n",
        "y_train = preproc_y(y_train)\n",
        "y_test = preproc_y(y_test)"
      ],
      "execution_count": 0,
      "outputs": []
    },
    {
      "cell_type": "code",
      "metadata": {
        "id": "ASVHUSE-efHb",
        "colab_type": "code",
        "colab": {}
      },
      "source": [
        "from keras.layers import BatchNormalization\n",
        "\n",
        "def build_mlp(input_shape, output_units=10, num_neurons=[512, 256, 128]):\n",
        "    \"\"\"Code Here\n",
        "    建立你的神經網路\n",
        "    \"\"\"\n",
        "    input_layer = keras.layers.Input(input_shape)\n",
        "    \n",
        "    for i, n_units in enumerate(num_neurons):\n",
        "        if i == 0:\n",
        "            x = keras.layers.Dense(units=n_units, \n",
        "                                   activation=\"relu\", \n",
        "                                   name=\"hidden_layer\"+str(i+1))(input_layer)\n",
        "            x = BatchNormalization()(x)\n",
        "        else:\n",
        "            x = keras.layers.Dense(units=n_units, \n",
        "                                   activation=\"relu\", \n",
        "                                   name=\"hidden_layer\"+str(i+1))(x)\n",
        "            x = BatchNormalization()(x)\n",
        "    \n",
        "    out = keras.layers.Dense(units=output_units, activation=\"softmax\", name=\"output\")(x)\n",
        "    \n",
        "    model = keras.models.Model(inputs=[input_layer], outputs=[out])\n",
        "    return model"
      ],
      "execution_count": 0,
      "outputs": []
    },
    {
      "cell_type": "code",
      "metadata": {
        "id": "_4KprY7cefHd",
        "colab_type": "code",
        "colab": {}
      },
      "source": [
        "\"\"\"Code Here\n",
        "設定超參數\n",
        "\"\"\"\n",
        "LEARNING_RATE = 1e-3\n",
        "EPOCHS = 50\n",
        "BATCH_SIZE = 1024\n",
        "MOMENTUM = 0.95"
      ],
      "execution_count": 0,
      "outputs": []
    },
    {
      "cell_type": "code",
      "metadata": {
        "id": "QPLVUe4befHg",
        "colab_type": "code",
        "colab": {
          "base_uri": "https://localhost:8080/",
          "height": 1000
        },
        "outputId": "e4726ea7-3bfa-44fe-afc8-b352fe5aabeb"
      },
      "source": [
        "# 載入 Callbacks\n",
        "from keras.callbacks import EarlyStopping\n",
        "\n",
        "monitors = [\"val_acc\", \"val_loss\", \"val_loss\"]\n",
        "patiences = [10, 10, 25]\n",
        "\n",
        "results = {}\n",
        "for (idx,es_patience,es_monitor) in zip(range(1,len(patiences)+1),patiences, monitors):\n",
        "    \"\"\"Code Here\n",
        "    設定 callbacks: Earlystop\n",
        "    \"\"\"\n",
        "    earlystop = EarlyStopping(monitor=es_monitor, \n",
        "                              patience=es_patience, \n",
        "                              verbose=1\n",
        "                              )\n",
        "    print(\"Numbers of exp: %i, use_monitor: %s, use_patience: %s\" % (idx, es_monitor, es_patience))\n",
        "    \"\"\"Code Here\n",
        "    撰寫你的訓練流程並將結果用 dictionary 紀錄\n",
        "    \"\"\"\n",
        "    model = build_mlp(input_shape=x_train.shape[1:])\n",
        "    model.summary()\n",
        "    optimizer = keras.optimizers.SGD(lr=LEARNING_RATE, nesterov=True, momentum=MOMENTUM)\n",
        "    model.compile(loss=\"categorical_crossentropy\", metrics=[\"accuracy\"], optimizer=optimizer)\n",
        "\n",
        "    model.fit(x_train, y_train, \n",
        "              epochs=EPOCHS, \n",
        "              batch_size=BATCH_SIZE, \n",
        "              validation_data=(x_test, y_test), \n",
        "              shuffle=True,\n",
        "              callbacks=[earlystop]\n",
        "             )\n",
        "\n",
        "    # Collect results\n",
        "    rst_name_tag = (\"earlystop%s-%s-%s\" % (idx,es_monitor,es_patience))\n",
        "    results[rst_name_tag] = {'train-loss': model.history.history[\"loss\"],\n",
        "                             'valid-loss': model.history.history[\"val_loss\"],\n",
        "                             'train-acc': model.history.history[\"acc\"],\n",
        "                             'valid-acc': model.history.history[\"val_acc\"]}\n"
      ],
      "execution_count": 7,
      "outputs": [
        {
          "output_type": "stream",
          "text": [
            "WARNING: Logging before flag parsing goes to stderr.\n",
            "W0720 13:54:33.690154 140577921451904 deprecation_wrapper.py:119] From /usr/local/lib/python3.6/dist-packages/keras/backend/tensorflow_backend.py:74: The name tf.get_default_graph is deprecated. Please use tf.compat.v1.get_default_graph instead.\n",
            "\n",
            "W0720 13:54:33.704211 140577921451904 deprecation_wrapper.py:119] From /usr/local/lib/python3.6/dist-packages/keras/backend/tensorflow_backend.py:517: The name tf.placeholder is deprecated. Please use tf.compat.v1.placeholder instead.\n",
            "\n",
            "W0720 13:54:33.706562 140577921451904 deprecation_wrapper.py:119] From /usr/local/lib/python3.6/dist-packages/keras/backend/tensorflow_backend.py:4138: The name tf.random_uniform is deprecated. Please use tf.random.uniform instead.\n",
            "\n",
            "W0720 13:54:33.783290 140577921451904 deprecation_wrapper.py:119] From /usr/local/lib/python3.6/dist-packages/keras/backend/tensorflow_backend.py:133: The name tf.placeholder_with_default is deprecated. Please use tf.compat.v1.placeholder_with_default instead.\n",
            "\n",
            "W0720 13:54:34.084364 140577921451904 deprecation_wrapper.py:119] From /usr/local/lib/python3.6/dist-packages/keras/optimizers.py:790: The name tf.train.Optimizer is deprecated. Please use tf.compat.v1.train.Optimizer instead.\n",
            "\n",
            "W0720 13:54:34.094329 140577921451904 deprecation_wrapper.py:119] From /usr/local/lib/python3.6/dist-packages/keras/backend/tensorflow_backend.py:3295: The name tf.log is deprecated. Please use tf.math.log instead.\n",
            "\n"
          ],
          "name": "stderr"
        },
        {
          "output_type": "stream",
          "text": [
            "_________________________________________________________________\n",
            "Layer (type)                 Output Shape              Param #   \n",
            "=================================================================\n",
            "input_1 (InputLayer)         (None, 3072)              0         \n",
            "_________________________________________________________________\n",
            "hidden_layer1 (Dense)        (None, 512)               1573376   \n",
            "_________________________________________________________________\n",
            "batch_normalization_1 (Batch (None, 512)               2048      \n",
            "_________________________________________________________________\n",
            "hidden_layer2 (Dense)        (None, 256)               131328    \n",
            "_________________________________________________________________\n",
            "batch_normalization_2 (Batch (None, 256)               1024      \n",
            "_________________________________________________________________\n",
            "hidden_layer3 (Dense)        (None, 128)               32896     \n",
            "_________________________________________________________________\n",
            "batch_normalization_3 (Batch (None, 128)               512       \n",
            "_________________________________________________________________\n",
            "output (Dense)               (None, 10)                1290      \n",
            "=================================================================\n",
            "Total params: 1,742,474\n",
            "Trainable params: 1,740,682\n",
            "Non-trainable params: 1,792\n",
            "_________________________________________________________________\n"
          ],
          "name": "stdout"
        },
        {
          "output_type": "stream",
          "text": [
            "W0720 13:54:34.194472 140577921451904 deprecation.py:323] From /usr/local/lib/python3.6/dist-packages/tensorflow/python/ops/math_grad.py:1250: add_dispatch_support.<locals>.wrapper (from tensorflow.python.ops.array_ops) is deprecated and will be removed in a future version.\n",
            "Instructions for updating:\n",
            "Use tf.where in 2.0, which has the same broadcast rule as np.where\n"
          ],
          "name": "stderr"
        },
        {
          "output_type": "stream",
          "text": [
            "Train on 50000 samples, validate on 10000 samples\n",
            "Epoch 1/50\n",
            "50000/50000 [==============================] - 3s 58us/step - loss: 2.2230 - acc: 0.2628 - val_loss: 2.2062 - val_acc: 0.2979\n",
            "Epoch 2/50\n",
            "50000/50000 [==============================] - 1s 29us/step - loss: 1.7469 - acc: 0.3883 - val_loss: 1.8244 - val_acc: 0.3692\n",
            "Epoch 3/50\n",
            "50000/50000 [==============================] - 1s 30us/step - loss: 1.6204 - acc: 0.4313 - val_loss: 1.6987 - val_acc: 0.4052\n",
            "Epoch 4/50\n",
            "50000/50000 [==============================] - 1s 30us/step - loss: 1.5485 - acc: 0.4563 - val_loss: 1.6308 - val_acc: 0.4256\n",
            "Epoch 5/50\n",
            "50000/50000 [==============================] - 1s 29us/step - loss: 1.4920 - acc: 0.4758 - val_loss: 1.5987 - val_acc: 0.4360\n",
            "Epoch 6/50\n",
            "50000/50000 [==============================] - 1s 29us/step - loss: 1.4458 - acc: 0.4955 - val_loss: 1.5707 - val_acc: 0.4484\n",
            "Epoch 7/50\n",
            "50000/50000 [==============================] - 1s 30us/step - loss: 1.4061 - acc: 0.5088 - val_loss: 1.5415 - val_acc: 0.4617\n",
            "Epoch 8/50\n",
            "50000/50000 [==============================] - 1s 29us/step - loss: 1.3716 - acc: 0.5212 - val_loss: 1.5345 - val_acc: 0.4634\n",
            "Epoch 9/50\n",
            "50000/50000 [==============================] - 1s 29us/step - loss: 1.3393 - acc: 0.5335 - val_loss: 1.5276 - val_acc: 0.4657\n",
            "Epoch 10/50\n",
            "50000/50000 [==============================] - 1s 29us/step - loss: 1.3078 - acc: 0.5441 - val_loss: 1.5013 - val_acc: 0.4729\n",
            "Epoch 11/50\n",
            "50000/50000 [==============================] - 1s 29us/step - loss: 1.2796 - acc: 0.5542 - val_loss: 1.4927 - val_acc: 0.4766\n",
            "Epoch 12/50\n",
            "50000/50000 [==============================] - 1s 29us/step - loss: 1.2532 - acc: 0.5662 - val_loss: 1.4871 - val_acc: 0.4790\n",
            "Epoch 13/50\n",
            "50000/50000 [==============================] - 1s 29us/step - loss: 1.2276 - acc: 0.5735 - val_loss: 1.4830 - val_acc: 0.4830\n",
            "Epoch 14/50\n",
            "50000/50000 [==============================] - 1s 29us/step - loss: 1.2029 - acc: 0.5832 - val_loss: 1.4738 - val_acc: 0.4840\n",
            "Epoch 15/50\n",
            "50000/50000 [==============================] - 1s 29us/step - loss: 1.1791 - acc: 0.5938 - val_loss: 1.4722 - val_acc: 0.4848\n",
            "Epoch 16/50\n",
            "50000/50000 [==============================] - 1s 29us/step - loss: 1.1561 - acc: 0.6019 - val_loss: 1.4659 - val_acc: 0.4881\n",
            "Epoch 17/50\n",
            "50000/50000 [==============================] - 1s 29us/step - loss: 1.1320 - acc: 0.6104 - val_loss: 1.4731 - val_acc: 0.4834\n",
            "Epoch 18/50\n",
            "50000/50000 [==============================] - 1s 29us/step - loss: 1.1109 - acc: 0.6194 - val_loss: 1.4659 - val_acc: 0.4905\n",
            "Epoch 19/50\n",
            "50000/50000 [==============================] - 1s 29us/step - loss: 1.0894 - acc: 0.6262 - val_loss: 1.4574 - val_acc: 0.4948\n",
            "Epoch 20/50\n",
            "50000/50000 [==============================] - 1s 29us/step - loss: 1.0669 - acc: 0.6358 - val_loss: 1.4571 - val_acc: 0.4963\n",
            "Epoch 21/50\n",
            "50000/50000 [==============================] - 1s 29us/step - loss: 1.0447 - acc: 0.6442 - val_loss: 1.4648 - val_acc: 0.4917\n",
            "Epoch 22/50\n",
            "50000/50000 [==============================] - 1s 30us/step - loss: 1.0243 - acc: 0.6535 - val_loss: 1.4693 - val_acc: 0.4923\n",
            "Epoch 23/50\n",
            "50000/50000 [==============================] - 1s 29us/step - loss: 1.0009 - acc: 0.6616 - val_loss: 1.4556 - val_acc: 0.4912\n",
            "Epoch 24/50\n",
            "50000/50000 [==============================] - 1s 29us/step - loss: 0.9801 - acc: 0.6707 - val_loss: 1.4613 - val_acc: 0.4966\n",
            "Epoch 25/50\n",
            "50000/50000 [==============================] - 1s 30us/step - loss: 0.9598 - acc: 0.6777 - val_loss: 1.4610 - val_acc: 0.4967\n",
            "Epoch 26/50\n",
            "50000/50000 [==============================] - 1s 29us/step - loss: 0.9371 - acc: 0.6875 - val_loss: 1.4680 - val_acc: 0.4986\n",
            "Epoch 27/50\n",
            "50000/50000 [==============================] - 1s 30us/step - loss: 0.9189 - acc: 0.6933 - val_loss: 1.4808 - val_acc: 0.4903\n",
            "Epoch 28/50\n",
            "50000/50000 [==============================] - 1s 29us/step - loss: 0.8968 - acc: 0.7017 - val_loss: 1.4862 - val_acc: 0.4887\n",
            "Epoch 29/50\n",
            "50000/50000 [==============================] - 1s 30us/step - loss: 0.8790 - acc: 0.7083 - val_loss: 1.4744 - val_acc: 0.4939\n",
            "Epoch 30/50\n",
            "50000/50000 [==============================] - 1s 29us/step - loss: 0.8564 - acc: 0.7173 - val_loss: 1.4840 - val_acc: 0.4971\n",
            "Epoch 31/50\n",
            "50000/50000 [==============================] - 1s 29us/step - loss: 0.8375 - acc: 0.7250 - val_loss: 1.4881 - val_acc: 0.4957\n",
            "Epoch 32/50\n",
            "50000/50000 [==============================] - 1s 29us/step - loss: 0.8162 - acc: 0.7330 - val_loss: 1.4847 - val_acc: 0.4980\n",
            "Epoch 33/50\n",
            "50000/50000 [==============================] - 1s 29us/step - loss: 0.7976 - acc: 0.7422 - val_loss: 1.5064 - val_acc: 0.4912\n",
            "Epoch 34/50\n",
            "50000/50000 [==============================] - 1s 29us/step - loss: 0.7787 - acc: 0.7481 - val_loss: 1.5081 - val_acc: 0.4939\n",
            "Epoch 35/50\n",
            "50000/50000 [==============================] - 1s 29us/step - loss: 0.7584 - acc: 0.7570 - val_loss: 1.5195 - val_acc: 0.4933\n",
            "Epoch 36/50\n",
            "50000/50000 [==============================] - 1s 29us/step - loss: 0.7379 - acc: 0.7661 - val_loss: 1.5271 - val_acc: 0.4957\n",
            "Epoch 00036: early stopping\n",
            "_________________________________________________________________\n",
            "Layer (type)                 Output Shape              Param #   \n",
            "=================================================================\n",
            "input_2 (InputLayer)         (None, 3072)              0         \n",
            "_________________________________________________________________\n",
            "hidden_layer1 (Dense)        (None, 512)               1573376   \n",
            "_________________________________________________________________\n",
            "batch_normalization_4 (Batch (None, 512)               2048      \n",
            "_________________________________________________________________\n",
            "hidden_layer2 (Dense)        (None, 256)               131328    \n",
            "_________________________________________________________________\n",
            "batch_normalization_5 (Batch (None, 256)               1024      \n",
            "_________________________________________________________________\n",
            "hidden_layer3 (Dense)        (None, 128)               32896     \n",
            "_________________________________________________________________\n",
            "batch_normalization_6 (Batch (None, 128)               512       \n",
            "_________________________________________________________________\n",
            "output (Dense)               (None, 10)                1290      \n",
            "=================================================================\n",
            "Total params: 1,742,474\n",
            "Trainable params: 1,740,682\n",
            "Non-trainable params: 1,792\n",
            "_________________________________________________________________\n",
            "Train on 50000 samples, validate on 10000 samples\n",
            "Epoch 1/50\n",
            "50000/50000 [==============================] - 2s 43us/step - loss: 2.2041 - acc: 0.2657 - val_loss: 2.0603 - val_acc: 0.3297\n",
            "Epoch 2/50\n",
            "50000/50000 [==============================] - 1s 29us/step - loss: 1.7612 - acc: 0.3851 - val_loss: 1.8072 - val_acc: 0.3857\n",
            "Epoch 3/50\n",
            "50000/50000 [==============================] - 1s 29us/step - loss: 1.6302 - acc: 0.4281 - val_loss: 1.7230 - val_acc: 0.4005\n",
            "Epoch 4/50\n",
            "50000/50000 [==============================] - 1s 29us/step - loss: 1.5533 - acc: 0.4553 - val_loss: 1.6383 - val_acc: 0.4232\n",
            "Epoch 5/50\n",
            "50000/50000 [==============================] - 1s 29us/step - loss: 1.4970 - acc: 0.4762 - val_loss: 1.6147 - val_acc: 0.4304\n",
            "Epoch 6/50\n",
            "50000/50000 [==============================] - 1s 29us/step - loss: 1.4494 - acc: 0.4917 - val_loss: 1.5682 - val_acc: 0.4479\n",
            "Epoch 7/50\n",
            "50000/50000 [==============================] - 1s 29us/step - loss: 1.4115 - acc: 0.5066 - val_loss: 1.5598 - val_acc: 0.4528\n",
            "Epoch 8/50\n",
            "50000/50000 [==============================] - 1s 29us/step - loss: 1.3758 - acc: 0.5206 - val_loss: 1.5441 - val_acc: 0.4589\n",
            "Epoch 9/50\n",
            "50000/50000 [==============================] - 1s 29us/step - loss: 1.3446 - acc: 0.5292 - val_loss: 1.5294 - val_acc: 0.4614\n",
            "Epoch 10/50\n",
            "50000/50000 [==============================] - 1s 29us/step - loss: 1.3135 - acc: 0.5406 - val_loss: 1.5182 - val_acc: 0.4677\n",
            "Epoch 11/50\n",
            "50000/50000 [==============================] - 1s 29us/step - loss: 1.2864 - acc: 0.5518 - val_loss: 1.5042 - val_acc: 0.4753\n",
            "Epoch 12/50\n",
            "50000/50000 [==============================] - 1s 29us/step - loss: 1.2605 - acc: 0.5605 - val_loss: 1.5029 - val_acc: 0.4731\n",
            "Epoch 13/50\n",
            "50000/50000 [==============================] - 1s 29us/step - loss: 1.2351 - acc: 0.5716 - val_loss: 1.4825 - val_acc: 0.4852\n",
            "Epoch 14/50\n",
            "50000/50000 [==============================] - 1s 29us/step - loss: 1.2094 - acc: 0.5798 - val_loss: 1.4759 - val_acc: 0.4823\n",
            "Epoch 15/50\n",
            "50000/50000 [==============================] - 1s 29us/step - loss: 1.1851 - acc: 0.5902 - val_loss: 1.4845 - val_acc: 0.4811\n",
            "Epoch 16/50\n",
            "50000/50000 [==============================] - 1s 29us/step - loss: 1.1582 - acc: 0.5999 - val_loss: 1.4778 - val_acc: 0.4856\n",
            "Epoch 17/50\n",
            "50000/50000 [==============================] - 1s 29us/step - loss: 1.1354 - acc: 0.6088 - val_loss: 1.4712 - val_acc: 0.4891\n",
            "Epoch 18/50\n",
            "50000/50000 [==============================] - 1s 29us/step - loss: 1.1151 - acc: 0.6177 - val_loss: 1.4580 - val_acc: 0.4916\n",
            "Epoch 19/50\n",
            "50000/50000 [==============================] - 1s 29us/step - loss: 1.0936 - acc: 0.6254 - val_loss: 1.4750 - val_acc: 0.4854\n",
            "Epoch 20/50\n",
            "50000/50000 [==============================] - 1s 29us/step - loss: 1.0691 - acc: 0.6343 - val_loss: 1.4555 - val_acc: 0.4933\n",
            "Epoch 21/50\n",
            "50000/50000 [==============================] - 1s 29us/step - loss: 1.0484 - acc: 0.6420 - val_loss: 1.4600 - val_acc: 0.4969\n",
            "Epoch 22/50\n",
            "50000/50000 [==============================] - 1s 29us/step - loss: 1.0265 - acc: 0.6497 - val_loss: 1.4634 - val_acc: 0.4913\n",
            "Epoch 23/50\n",
            "50000/50000 [==============================] - 1s 29us/step - loss: 1.0055 - acc: 0.6587 - val_loss: 1.4903 - val_acc: 0.4862\n",
            "Epoch 24/50\n",
            "50000/50000 [==============================] - 1s 29us/step - loss: 0.9851 - acc: 0.6660 - val_loss: 1.4725 - val_acc: 0.4895\n",
            "Epoch 25/50\n",
            "50000/50000 [==============================] - 1s 29us/step - loss: 0.9625 - acc: 0.6765 - val_loss: 1.4725 - val_acc: 0.4931\n",
            "Epoch 26/50\n",
            "50000/50000 [==============================] - 1s 29us/step - loss: 0.9414 - acc: 0.6842 - val_loss: 1.4683 - val_acc: 0.4945\n",
            "Epoch 27/50\n",
            "50000/50000 [==============================] - 1s 29us/step - loss: 0.9203 - acc: 0.6904 - val_loss: 1.4787 - val_acc: 0.4910\n",
            "Epoch 28/50\n",
            "50000/50000 [==============================] - 1s 29us/step - loss: 0.8998 - acc: 0.7013 - val_loss: 1.4738 - val_acc: 0.4934\n",
            "Epoch 29/50\n",
            "50000/50000 [==============================] - 1s 29us/step - loss: 0.8805 - acc: 0.7084 - val_loss: 1.4826 - val_acc: 0.4918\n",
            "Epoch 30/50\n",
            "50000/50000 [==============================] - 1s 29us/step - loss: 0.8607 - acc: 0.7155 - val_loss: 1.4961 - val_acc: 0.4934\n",
            "Epoch 00030: early stopping\n",
            "_________________________________________________________________\n",
            "Layer (type)                 Output Shape              Param #   \n",
            "=================================================================\n",
            "input_3 (InputLayer)         (None, 3072)              0         \n",
            "_________________________________________________________________\n",
            "hidden_layer1 (Dense)        (None, 512)               1573376   \n",
            "_________________________________________________________________\n",
            "batch_normalization_7 (Batch (None, 512)               2048      \n",
            "_________________________________________________________________\n",
            "hidden_layer2 (Dense)        (None, 256)               131328    \n",
            "_________________________________________________________________\n",
            "batch_normalization_8 (Batch (None, 256)               1024      \n",
            "_________________________________________________________________\n",
            "hidden_layer3 (Dense)        (None, 128)               32896     \n",
            "_________________________________________________________________\n",
            "batch_normalization_9 (Batch (None, 128)               512       \n",
            "_________________________________________________________________\n",
            "output (Dense)               (None, 10)                1290      \n",
            "=================================================================\n",
            "Total params: 1,742,474\n",
            "Trainable params: 1,740,682\n",
            "Non-trainable params: 1,792\n",
            "_________________________________________________________________\n",
            "Train on 50000 samples, validate on 10000 samples\n",
            "Epoch 1/50\n",
            "50000/50000 [==============================] - 2s 45us/step - loss: 2.1922 - acc: 0.2754 - val_loss: 2.0135 - val_acc: 0.3224\n",
            "Epoch 2/50\n",
            "50000/50000 [==============================] - 1s 29us/step - loss: 1.7426 - acc: 0.3957 - val_loss: 1.7851 - val_acc: 0.3878\n",
            "Epoch 3/50\n",
            "50000/50000 [==============================] - 1s 29us/step - loss: 1.6145 - acc: 0.4403 - val_loss: 1.6839 - val_acc: 0.4152\n",
            "Epoch 4/50\n",
            "50000/50000 [==============================] - 1s 29us/step - loss: 1.5408 - acc: 0.4653 - val_loss: 1.6317 - val_acc: 0.4254\n",
            "Epoch 5/50\n",
            "50000/50000 [==============================] - 1s 29us/step - loss: 1.4865 - acc: 0.4845 - val_loss: 1.5941 - val_acc: 0.4427\n",
            "Epoch 6/50\n",
            "50000/50000 [==============================] - 1s 29us/step - loss: 1.4411 - acc: 0.5008 - val_loss: 1.5878 - val_acc: 0.4400\n",
            "Epoch 7/50\n",
            "50000/50000 [==============================] - 1s 29us/step - loss: 1.4028 - acc: 0.5131 - val_loss: 1.5466 - val_acc: 0.4534\n",
            "Epoch 8/50\n",
            "50000/50000 [==============================] - 1s 29us/step - loss: 1.3683 - acc: 0.5268 - val_loss: 1.5406 - val_acc: 0.4576\n",
            "Epoch 9/50\n",
            "50000/50000 [==============================] - 1s 29us/step - loss: 1.3374 - acc: 0.5376 - val_loss: 1.5046 - val_acc: 0.4690\n",
            "Epoch 10/50\n",
            "50000/50000 [==============================] - 1s 30us/step - loss: 1.3052 - acc: 0.5504 - val_loss: 1.5012 - val_acc: 0.4727\n",
            "Epoch 11/50\n",
            "50000/50000 [==============================] - 1s 29us/step - loss: 1.2768 - acc: 0.5584 - val_loss: 1.4848 - val_acc: 0.4779\n",
            "Epoch 12/50\n",
            "50000/50000 [==============================] - 1s 29us/step - loss: 1.2492 - acc: 0.5690 - val_loss: 1.4827 - val_acc: 0.4798\n",
            "Epoch 13/50\n",
            "50000/50000 [==============================] - 1s 29us/step - loss: 1.2245 - acc: 0.5781 - val_loss: 1.4886 - val_acc: 0.4749\n",
            "Epoch 14/50\n",
            "50000/50000 [==============================] - 1s 29us/step - loss: 1.2005 - acc: 0.5878 - val_loss: 1.4678 - val_acc: 0.4816\n",
            "Epoch 15/50\n",
            "50000/50000 [==============================] - 1s 29us/step - loss: 1.1737 - acc: 0.5981 - val_loss: 1.4655 - val_acc: 0.4911\n",
            "Epoch 16/50\n",
            "50000/50000 [==============================] - 1s 29us/step - loss: 1.1524 - acc: 0.6068 - val_loss: 1.4612 - val_acc: 0.4852\n",
            "Epoch 17/50\n",
            "50000/50000 [==============================] - 1s 29us/step - loss: 1.1272 - acc: 0.6164 - val_loss: 1.4668 - val_acc: 0.4845\n",
            "Epoch 18/50\n",
            "50000/50000 [==============================] - 1s 29us/step - loss: 1.1050 - acc: 0.6246 - val_loss: 1.4531 - val_acc: 0.4938\n",
            "Epoch 19/50\n",
            "50000/50000 [==============================] - 1s 29us/step - loss: 1.0807 - acc: 0.6337 - val_loss: 1.4533 - val_acc: 0.4884\n",
            "Epoch 20/50\n",
            "50000/50000 [==============================] - 1s 29us/step - loss: 1.0597 - acc: 0.6407 - val_loss: 1.4563 - val_acc: 0.4905\n",
            "Epoch 21/50\n",
            "50000/50000 [==============================] - 1s 29us/step - loss: 1.0386 - acc: 0.6489 - val_loss: 1.4623 - val_acc: 0.4905\n",
            "Epoch 22/50\n",
            "50000/50000 [==============================] - 1s 29us/step - loss: 1.0162 - acc: 0.6585 - val_loss: 1.4579 - val_acc: 0.4906\n",
            "Epoch 23/50\n",
            "50000/50000 [==============================] - 1s 29us/step - loss: 0.9960 - acc: 0.6653 - val_loss: 1.4557 - val_acc: 0.4931\n",
            "Epoch 24/50\n",
            "50000/50000 [==============================] - 1s 29us/step - loss: 0.9765 - acc: 0.6749 - val_loss: 1.4607 - val_acc: 0.4895\n",
            "Epoch 25/50\n",
            "50000/50000 [==============================] - 1s 29us/step - loss: 0.9556 - acc: 0.6797 - val_loss: 1.4680 - val_acc: 0.4930\n",
            "Epoch 26/50\n",
            "50000/50000 [==============================] - 1s 29us/step - loss: 0.9315 - acc: 0.6896 - val_loss: 1.4746 - val_acc: 0.4962\n",
            "Epoch 27/50\n",
            "50000/50000 [==============================] - 1s 29us/step - loss: 0.9109 - acc: 0.6987 - val_loss: 1.4654 - val_acc: 0.4979\n",
            "Epoch 28/50\n",
            "50000/50000 [==============================] - 1s 29us/step - loss: 0.8928 - acc: 0.7057 - val_loss: 1.4804 - val_acc: 0.4982\n",
            "Epoch 29/50\n",
            "50000/50000 [==============================] - 1s 29us/step - loss: 0.8738 - acc: 0.7126 - val_loss: 1.4787 - val_acc: 0.4963\n",
            "Epoch 30/50\n",
            "50000/50000 [==============================] - 1s 29us/step - loss: 0.8516 - acc: 0.7216 - val_loss: 1.4768 - val_acc: 0.4996\n",
            "Epoch 31/50\n",
            "50000/50000 [==============================] - 1s 29us/step - loss: 0.8318 - acc: 0.7286 - val_loss: 1.4842 - val_acc: 0.4977\n",
            "Epoch 32/50\n",
            "50000/50000 [==============================] - 1s 29us/step - loss: 0.8119 - acc: 0.7371 - val_loss: 1.4908 - val_acc: 0.4930\n",
            "Epoch 33/50\n",
            "50000/50000 [==============================] - 1s 29us/step - loss: 0.7926 - acc: 0.7436 - val_loss: 1.4997 - val_acc: 0.4956\n",
            "Epoch 34/50\n",
            "50000/50000 [==============================] - 1s 29us/step - loss: 0.7732 - acc: 0.7526 - val_loss: 1.5125 - val_acc: 0.4945\n",
            "Epoch 35/50\n",
            "50000/50000 [==============================] - 1s 29us/step - loss: 0.7545 - acc: 0.7601 - val_loss: 1.5201 - val_acc: 0.4961\n",
            "Epoch 36/50\n",
            "50000/50000 [==============================] - 1s 29us/step - loss: 0.7323 - acc: 0.7694 - val_loss: 1.5248 - val_acc: 0.4945\n",
            "Epoch 37/50\n",
            "50000/50000 [==============================] - 1s 29us/step - loss: 0.7155 - acc: 0.7756 - val_loss: 1.5536 - val_acc: 0.4868\n",
            "Epoch 38/50\n",
            "50000/50000 [==============================] - 1s 29us/step - loss: 0.6950 - acc: 0.7848 - val_loss: 1.5505 - val_acc: 0.4930\n",
            "Epoch 39/50\n",
            "50000/50000 [==============================] - 1s 30us/step - loss: 0.6759 - acc: 0.7916 - val_loss: 1.5503 - val_acc: 0.4971\n",
            "Epoch 40/50\n",
            "50000/50000 [==============================] - 1s 29us/step - loss: 0.6578 - acc: 0.7993 - val_loss: 1.5706 - val_acc: 0.4972\n",
            "Epoch 41/50\n",
            "50000/50000 [==============================] - 1s 29us/step - loss: 0.6398 - acc: 0.8066 - val_loss: 1.5600 - val_acc: 0.4970\n",
            "Epoch 42/50\n",
            "50000/50000 [==============================] - 1s 29us/step - loss: 0.6205 - acc: 0.8124 - val_loss: 1.5931 - val_acc: 0.4879\n",
            "Epoch 43/50\n",
            "50000/50000 [==============================] - 1s 29us/step - loss: 0.6027 - acc: 0.8223 - val_loss: 1.5903 - val_acc: 0.4910\n",
            "Epoch 00043: early stopping\n"
          ],
          "name": "stdout"
        }
      ]
    },
    {
      "cell_type": "code",
      "metadata": {
        "id": "2jlin5FmefHi",
        "colab_type": "code",
        "colab": {
          "base_uri": "https://localhost:8080/",
          "height": 763
        },
        "outputId": "df1cb26a-bd55-4b63-a7f5-2a4862b2877c"
      },
      "source": [
        "import matplotlib.pyplot as plt\n",
        "%matplotlib inline\n",
        "\n",
        "import matplotlib.cm as mplcm\n",
        "import matplotlib.colors as colors\n",
        "\n",
        "\"\"\"Code Here\n",
        "將結果繪出\n",
        "\"\"\"\n",
        "NUM_COLORS = 6\n",
        "\n",
        "cm = plt.get_cmap('gist_ncar')\n",
        "cNorm  = colors.Normalize(vmin=0, vmax=NUM_COLORS-1)\n",
        "scalarMap = mplcm.ScalarMappable(norm=cNorm, cmap=cm)\n",
        "color_bar = [scalarMap.to_rgba(i) for i in range(NUM_COLORS)]\n",
        "\n",
        "plt.figure(figsize=(10,6))\n",
        "for i, cond in enumerate(results.keys()):\n",
        "    plt.plot(range(len(results[cond]['train-loss'])),results[cond]['train-loss'], '-', label=cond, color=color_bar[i])\n",
        "    plt.plot(range(len(results[cond]['valid-loss'])),results[cond]['valid-loss'], '--', label=cond, color=color_bar[i])\n",
        "plt.title(\"Loss\")\n",
        "plt.legend()\n",
        "plt.show()\n",
        "\n",
        "plt.figure(figsize=(10,6))\n",
        "for i, cond in enumerate(results.keys()):\n",
        "    plt.plot(range(len(results[cond]['train-acc'])),results[cond]['train-acc'], '-', label=cond, color=color_bar[i])\n",
        "    plt.plot(range(len(results[cond]['valid-acc'])),results[cond]['valid-acc'], '--', label=cond, color=color_bar[i])\n",
        "plt.title(\"Accuracy\")\n",
        "plt.legend()\n",
        "plt.show()"
      ],
      "execution_count": 36,
      "outputs": [
        {
          "output_type": "display_data",
          "data": {
            "image/png": "[encoded data removed]",
            "text/plain": [
              "<Figure size 720x432 with 1 Axes>"
            ]
          },
          "metadata": {
            "tags": []
          }
        },
        {
          "output_type": "display_data",
          "data": {
            "image/png": "[encoded data removed]",
            "text/plain": [
              "<Figure size 720x432 with 1 Axes>"
            ]
          },
          "metadata": {
            "tags": []
          }
        }
      ]
    },
    {
      "cell_type": "code",
      "metadata": {
        "id": "koOy7yFIsf60",
        "colab_type": "code",
        "colab": {
          "base_uri": "https://localhost:8080/",
          "height": 126
        },
        "outputId": "e8ebf040-7ad2-4858-9d89-9026c52f8ac1"
      },
      "source": [
        "color_bar"
      ],
      "execution_count": 24,
      "outputs": [
        {
          "output_type": "execute_result",
          "data": {
            "text/plain": [
              "[(1.0, 0.0, 0.16, 1.0),\n",
              " (1.0, 0.918918918918919, 0.0, 1.0),\n",
              " (0.0, 1.0, 0.0, 1.0),\n",
              " (0.0, 0.9239130434782604, 1.0, 1.0),\n",
              " (0.16304347826086973, 0.0, 1.0, 1.0),\n",
              " (1.0, 0.0, 0.75, 1.0)]"
            ]
          },
          "metadata": {
            "tags": []
          },
          "execution_count": 24
        }
      ]
    },
    {
      "cell_type": "code",
      "metadata": {
        "id": "do3gN3cvsgde",
        "colab_type": "code",
        "colab": {}
      },
      "source": [
        ""
      ],
      "execution_count": 0,
      "outputs": []
    }
  ]
}