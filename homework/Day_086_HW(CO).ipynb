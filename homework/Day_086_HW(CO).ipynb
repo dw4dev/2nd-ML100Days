{
  "nbformat": 4,
  "nbformat_minor": 0,
  "metadata": {
    "kernelspec": {
      "name": "python3",
      "display_name": "Python 3"
    },
    "language_info": {
      "codemirror_mode": {
        "name": "ipython",
        "version": 3
      },
      "file_extension": ".py",
      "mimetype": "text/x-python",
      "name": "python",
      "nbconvert_exporter": "python",
      "pygments_lexer": "ipython3",
      "version": "3.6.5"
    },
    "colab": {
      "name": "Day_086_HW.ipynb",
      "version": "0.3.2",
      "provenance": [],
      "collapsed_sections": []
    },
    "accelerator": "GPU"
  },
  "cells": [
    {
      "cell_type": "markdown",
      "metadata": {
        "id": "_fC6OeZvpeJk",
        "colab_type": "text"
      },
      "source": [
        "## Work\n",
        "1. 試比較 save_best_only 與否的差異\n",
        "2. 請僅存入將 save_weights_only 設定為 True, 並嘗試 reset ipynb 並將模型與權重重新建回並預測 x_test"
      ]
    },
    {
      "cell_type": "code",
      "metadata": {
        "id": "oWgKgLPmpeJl",
        "colab_type": "code",
        "colab": {
          "base_uri": "https://localhost:8080/",
          "height": 35
        },
        "outputId": "8a359fdc-a0cd-4bdb-c9f8-c26ad62b0536"
      },
      "source": [
        "import os\n",
        "import keras\n",
        "\n",
        "# Disable GPU\n",
        "os.environ[\"CUDA_VISIBLE_DEVICES\"] = \"0\""
      ],
      "execution_count": 1,
      "outputs": [
        {
          "output_type": "stream",
          "text": [
            "Using TensorFlow backend.\n"
          ],
          "name": "stderr"
        }
      ]
    },
    {
      "cell_type": "code",
      "metadata": {
        "id": "BGU-F0kspeJp",
        "colab_type": "code",
        "colab": {
          "base_uri": "https://localhost:8080/",
          "height": 54
        },
        "outputId": "0afeb770-87c0-4786-fd37-78b251f38038"
      },
      "source": [
        "train, test = keras.datasets.cifar10.load_data()"
      ],
      "execution_count": 2,
      "outputs": [
        {
          "output_type": "stream",
          "text": [
            "Downloading data from https://www.cs.toronto.edu/~kriz/cifar-10-python.tar.gz\n",
            "170500096/170498071 [==============================] - 6s 0us/step\n"
          ],
          "name": "stdout"
        }
      ]
    },
    {
      "cell_type": "code",
      "metadata": {
        "id": "B-ibQLTVpeJr",
        "colab_type": "code",
        "colab": {}
      },
      "source": [
        "## 資料前處理\n",
        "def preproc_x(x, flatten=True):\n",
        "    x = x / 255.\n",
        "    if flatten:\n",
        "        x = x.reshape((len(x), -1))\n",
        "    return x\n",
        "\n",
        "def preproc_y(y, num_classes=10):\n",
        "    if y.shape[-1] == 1:\n",
        "        y = keras.utils.to_categorical(y, num_classes)\n",
        "    return y    "
      ],
      "execution_count": 0,
      "outputs": []
    },
    {
      "cell_type": "code",
      "metadata": {
        "id": "xs9Mk5EEpeJu",
        "colab_type": "code",
        "colab": {}
      },
      "source": [
        "x_train, y_train = train\n",
        "x_test, y_test = test\n",
        "\n",
        "# Preproc the inputs\n",
        "x_train = preproc_x(x_train)\n",
        "x_test = preproc_x(x_test)\n",
        "\n",
        "# Preprc the outputs\n",
        "y_train = preproc_y(y_train)\n",
        "y_test = preproc_y(y_test)"
      ],
      "execution_count": 0,
      "outputs": []
    },
    {
      "cell_type": "code",
      "metadata": {
        "id": "SqEmeCHRpeJw",
        "colab_type": "code",
        "colab": {}
      },
      "source": [
        "from keras.layers import BatchNormalization\n",
        "\n",
        "def build_mlp(input_shape, output_units=10, num_neurons=[512, 256, 128]):\n",
        "    \"\"\"Code Here\n",
        "    建立你的神經網路\n",
        "    \"\"\"\n",
        "    input_layer = keras.layers.Input(input_shape)\n",
        "    \n",
        "    for i, n_units in enumerate(num_neurons):\n",
        "        if i == 0:\n",
        "            x = keras.layers.Dense(units=n_units, \n",
        "                                   activation=\"relu\", \n",
        "                                   name=\"hidden_layer\"+str(i+1))(input_layer)\n",
        "            x = BatchNormalization()(x)\n",
        "        else:\n",
        "            x = keras.layers.Dense(units=n_units, \n",
        "                                   activation=\"relu\", \n",
        "                                   name=\"hidden_layer\"+str(i+1))(x)\n",
        "            x = BatchNormalization()(x)\n",
        "    \n",
        "    out = keras.layers.Dense(units=output_units, activation=\"softmax\", name=\"output\")(x)\n",
        "    \n",
        "    model = keras.models.Model(inputs=[input_layer], outputs=[out])\n",
        "    return model"
      ],
      "execution_count": 0,
      "outputs": []
    },
    {
      "cell_type": "code",
      "metadata": {
        "id": "BNgKImF4peJz",
        "colab_type": "code",
        "colab": {}
      },
      "source": [
        "\"\"\"Code Here\n",
        "設定超參數\n",
        "\"\"\"\n",
        "LEARNING_RATE = 1e-3\n",
        "EPOCHS = 50\n",
        "BATCH_SIZE = 1024\n",
        "MOMENTUM = 0.95"
      ],
      "execution_count": 0,
      "outputs": []
    },
    {
      "cell_type": "code",
      "metadata": {
        "id": "AtCkDAFfpeJ2",
        "colab_type": "code",
        "colab": {}
      },
      "source": [
        "# 載入 Callbacks\n",
        "\"\"\"Code Here\n",
        "設定 callbacks: model checkpoint\n",
        "\"\"\"\n",
        "from keras.callbacks import ModelCheckpoint\n",
        "\n",
        "# 暫存\n",
        "model_ckpt = ModelCheckpoint(filepath=\"./tmp.h5\", \n",
        "                             monitor=\"val_loss\", \n",
        "                             save_best_only=True)\n"
      ],
      "execution_count": 0,
      "outputs": []
    },
    {
      "cell_type": "code",
      "metadata": {
        "id": "Qt_iEsW1qjhD",
        "colab_type": "code",
        "colab": {
          "base_uri": "https://localhost:8080/",
          "height": 1000
        },
        "outputId": "0f0910e2-7aea-481c-ae07-1949f57982b0"
      },
      "source": [
        "results = {}\n",
        "\"\"\"Code Here\n",
        "撰寫你的訓練流程並將結果用 dictionary 紀錄\n",
        "\"\"\"\n",
        "model = build_mlp(input_shape=x_train.shape[1:])\n",
        "model.summary()\n",
        "optimizer = keras.optimizers.SGD(lr=LEARNING_RATE, nesterov=True, momentum=MOMENTUM)\n",
        "model.compile(loss=\"categorical_crossentropy\", metrics=[\"accuracy\"], optimizer=optimizer)\n",
        "\n",
        "model.fit(x_train, y_train, \n",
        "          epochs=EPOCHS, \n",
        "          batch_size=BATCH_SIZE, \n",
        "          validation_data=(x_test, y_test), \n",
        "          shuffle=True,\n",
        "          callbacks=[model_ckpt]\n",
        "         )\n"
      ],
      "execution_count": 10,
      "outputs": [
        {
          "output_type": "stream",
          "text": [
            "_________________________________________________________________\n",
            "Layer (type)                 Output Shape              Param #   \n",
            "=================================================================\n",
            "input_3 (InputLayer)         (None, 3072)              0         \n",
            "_________________________________________________________________\n",
            "hidden_layer1 (Dense)        (None, 512)               1573376   \n",
            "_________________________________________________________________\n",
            "batch_normalization_7 (Batch (None, 512)               2048      \n",
            "_________________________________________________________________\n",
            "hidden_layer2 (Dense)        (None, 256)               131328    \n",
            "_________________________________________________________________\n",
            "batch_normalization_8 (Batch (None, 256)               1024      \n",
            "_________________________________________________________________\n",
            "hidden_layer3 (Dense)        (None, 128)               32896     \n",
            "_________________________________________________________________\n",
            "batch_normalization_9 (Batch (None, 128)               512       \n",
            "_________________________________________________________________\n",
            "output (Dense)               (None, 10)                1290      \n",
            "=================================================================\n",
            "Total params: 1,742,474\n",
            "Trainable params: 1,740,682\n",
            "Non-trainable params: 1,792\n",
            "_________________________________________________________________\n",
            "Train on 50000 samples, validate on 10000 samples\n",
            "Epoch 1/50\n",
            "50000/50000 [==============================] - 3s 56us/step - loss: 2.2332 - acc: 0.2684 - val_loss: 2.0605 - val_acc: 0.3258\n",
            "Epoch 2/50\n",
            "50000/50000 [==============================] - 2s 36us/step - loss: 1.7573 - acc: 0.3934 - val_loss: 1.8281 - val_acc: 0.3736\n",
            "Epoch 3/50\n",
            "50000/50000 [==============================] - 2s 35us/step - loss: 1.6313 - acc: 0.4329 - val_loss: 1.7271 - val_acc: 0.4008\n",
            "Epoch 4/50\n",
            "50000/50000 [==============================] - 2s 35us/step - loss: 1.5566 - acc: 0.4591 - val_loss: 1.6316 - val_acc: 0.4352\n",
            "Epoch 5/50\n",
            "50000/50000 [==============================] - 2s 36us/step - loss: 1.5023 - acc: 0.4776 - val_loss: 1.6110 - val_acc: 0.4337\n",
            "Epoch 6/50\n",
            "50000/50000 [==============================] - 2s 36us/step - loss: 1.4549 - acc: 0.4942 - val_loss: 1.5729 - val_acc: 0.4549\n",
            "Epoch 7/50\n",
            "50000/50000 [==============================] - 2s 36us/step - loss: 1.4155 - acc: 0.5100 - val_loss: 1.5601 - val_acc: 0.4518\n",
            "Epoch 8/50\n",
            "50000/50000 [==============================] - 2s 36us/step - loss: 1.3792 - acc: 0.5226 - val_loss: 1.5336 - val_acc: 0.4647\n",
            "Epoch 9/50\n",
            "50000/50000 [==============================] - 2s 36us/step - loss: 1.3449 - acc: 0.5347 - val_loss: 1.5121 - val_acc: 0.4702\n",
            "Epoch 10/50\n",
            "50000/50000 [==============================] - 2s 35us/step - loss: 1.3150 - acc: 0.5470 - val_loss: 1.5052 - val_acc: 0.4698\n",
            "Epoch 11/50\n",
            "50000/50000 [==============================] - 2s 37us/step - loss: 1.2846 - acc: 0.5573 - val_loss: 1.4966 - val_acc: 0.4785\n",
            "Epoch 12/50\n",
            "50000/50000 [==============================] - 2s 36us/step - loss: 1.2579 - acc: 0.5664 - val_loss: 1.4962 - val_acc: 0.4758\n",
            "Epoch 13/50\n",
            "50000/50000 [==============================] - 2s 36us/step - loss: 1.2317 - acc: 0.5760 - val_loss: 1.4810 - val_acc: 0.4852\n",
            "Epoch 14/50\n",
            "50000/50000 [==============================] - 2s 36us/step - loss: 1.2067 - acc: 0.5847 - val_loss: 1.4841 - val_acc: 0.4802\n",
            "Epoch 15/50\n",
            "50000/50000 [==============================] - 2s 37us/step - loss: 1.1834 - acc: 0.5936 - val_loss: 1.4842 - val_acc: 0.4826\n",
            "Epoch 16/50\n",
            "50000/50000 [==============================] - 2s 36us/step - loss: 1.1583 - acc: 0.6038 - val_loss: 1.4794 - val_acc: 0.4844\n",
            "Epoch 17/50\n",
            "50000/50000 [==============================] - 2s 36us/step - loss: 1.1360 - acc: 0.6124 - val_loss: 1.4817 - val_acc: 0.4767\n",
            "Epoch 18/50\n",
            "50000/50000 [==============================] - 2s 35us/step - loss: 1.1139 - acc: 0.6205 - val_loss: 1.4639 - val_acc: 0.4902\n",
            "Epoch 19/50\n",
            "50000/50000 [==============================] - 2s 35us/step - loss: 1.0897 - acc: 0.6275 - val_loss: 1.4681 - val_acc: 0.4932\n",
            "Epoch 20/50\n",
            "50000/50000 [==============================] - 2s 36us/step - loss: 1.0697 - acc: 0.6368 - val_loss: 1.4587 - val_acc: 0.4965\n",
            "Epoch 21/50\n",
            "50000/50000 [==============================] - 2s 36us/step - loss: 1.0475 - acc: 0.6461 - val_loss: 1.4596 - val_acc: 0.4915\n",
            "Epoch 22/50\n",
            "50000/50000 [==============================] - 2s 35us/step - loss: 1.0262 - acc: 0.6536 - val_loss: 1.4830 - val_acc: 0.4825\n",
            "Epoch 23/50\n",
            "50000/50000 [==============================] - 2s 36us/step - loss: 1.0061 - acc: 0.6607 - val_loss: 1.4666 - val_acc: 0.4929\n",
            "Epoch 24/50\n",
            "50000/50000 [==============================] - 2s 35us/step - loss: 0.9857 - acc: 0.6689 - val_loss: 1.4826 - val_acc: 0.4929\n",
            "Epoch 25/50\n",
            "50000/50000 [==============================] - 2s 35us/step - loss: 0.9635 - acc: 0.6776 - val_loss: 1.4858 - val_acc: 0.4944\n",
            "Epoch 26/50\n",
            "50000/50000 [==============================] - 2s 35us/step - loss: 0.9430 - acc: 0.6855 - val_loss: 1.4980 - val_acc: 0.4879\n",
            "Epoch 27/50\n",
            "50000/50000 [==============================] - 2s 35us/step - loss: 0.9225 - acc: 0.6945 - val_loss: 1.4860 - val_acc: 0.4940\n",
            "Epoch 28/50\n",
            "50000/50000 [==============================] - 2s 36us/step - loss: 0.9021 - acc: 0.7012 - val_loss: 1.4982 - val_acc: 0.4871\n",
            "Epoch 29/50\n",
            "50000/50000 [==============================] - 2s 36us/step - loss: 0.8811 - acc: 0.7086 - val_loss: 1.4860 - val_acc: 0.4973\n",
            "Epoch 30/50\n",
            "50000/50000 [==============================] - 2s 36us/step - loss: 0.8626 - acc: 0.7162 - val_loss: 1.4943 - val_acc: 0.4966\n",
            "Epoch 31/50\n",
            "50000/50000 [==============================] - 2s 35us/step - loss: 0.8426 - acc: 0.7253 - val_loss: 1.4964 - val_acc: 0.4984\n",
            "Epoch 32/50\n",
            "50000/50000 [==============================] - 2s 35us/step - loss: 0.8248 - acc: 0.7306 - val_loss: 1.5226 - val_acc: 0.4919\n",
            "Epoch 33/50\n",
            "50000/50000 [==============================] - 2s 35us/step - loss: 0.8057 - acc: 0.7386 - val_loss: 1.5150 - val_acc: 0.4975\n",
            "Epoch 34/50\n",
            "50000/50000 [==============================] - 2s 36us/step - loss: 0.7851 - acc: 0.7461 - val_loss: 1.5242 - val_acc: 0.4994\n",
            "Epoch 35/50\n",
            "50000/50000 [==============================] - 2s 36us/step - loss: 0.7677 - acc: 0.7547 - val_loss: 1.5219 - val_acc: 0.4945\n",
            "Epoch 36/50\n",
            "50000/50000 [==============================] - 2s 36us/step - loss: 0.7468 - acc: 0.7624 - val_loss: 1.5545 - val_acc: 0.4939\n",
            "Epoch 37/50\n",
            "50000/50000 [==============================] - 2s 36us/step - loss: 0.7270 - acc: 0.7703 - val_loss: 1.5426 - val_acc: 0.4926\n",
            "Epoch 38/50\n",
            "50000/50000 [==============================] - 2s 36us/step - loss: 0.7105 - acc: 0.7767 - val_loss: 1.5683 - val_acc: 0.4938\n",
            "Epoch 39/50\n",
            "50000/50000 [==============================] - 2s 36us/step - loss: 0.6907 - acc: 0.7850 - val_loss: 1.5624 - val_acc: 0.4918\n",
            "Epoch 40/50\n",
            "50000/50000 [==============================] - 2s 36us/step - loss: 0.6719 - acc: 0.7917 - val_loss: 1.5808 - val_acc: 0.4945\n",
            "Epoch 41/50\n",
            "50000/50000 [==============================] - 2s 36us/step - loss: 0.6561 - acc: 0.7980 - val_loss: 1.5884 - val_acc: 0.4949\n",
            "Epoch 42/50\n",
            "50000/50000 [==============================] - 2s 36us/step - loss: 0.6376 - acc: 0.8064 - val_loss: 1.5802 - val_acc: 0.4962\n",
            "Epoch 43/50\n",
            "50000/50000 [==============================] - 2s 36us/step - loss: 0.6177 - acc: 0.8136 - val_loss: 1.6250 - val_acc: 0.4937\n",
            "Epoch 44/50\n",
            "50000/50000 [==============================] - 2s 36us/step - loss: 0.6025 - acc: 0.8195 - val_loss: 1.6548 - val_acc: 0.4887\n",
            "Epoch 45/50\n",
            "50000/50000 [==============================] - 2s 36us/step - loss: 0.5843 - acc: 0.8265 - val_loss: 1.6274 - val_acc: 0.4974\n",
            "Epoch 46/50\n",
            "50000/50000 [==============================] - 2s 36us/step - loss: 0.5678 - acc: 0.8343 - val_loss: 1.6328 - val_acc: 0.4926\n",
            "Epoch 47/50\n",
            "50000/50000 [==============================] - 2s 35us/step - loss: 0.5484 - acc: 0.8409 - val_loss: 1.6633 - val_acc: 0.4948\n",
            "Epoch 48/50\n",
            "50000/50000 [==============================] - 2s 35us/step - loss: 0.5325 - acc: 0.8464 - val_loss: 1.6607 - val_acc: 0.4904\n",
            "Epoch 49/50\n",
            "50000/50000 [==============================] - 2s 36us/step - loss: 0.5163 - acc: 0.8526 - val_loss: 1.6891 - val_acc: 0.4882\n",
            "Epoch 50/50\n",
            "50000/50000 [==============================] - 2s 35us/step - loss: 0.5005 - acc: 0.8598 - val_loss: 1.6976 - val_acc: 0.4907\n"
          ],
          "name": "stdout"
        },
        {
          "output_type": "execute_result",
          "data": {
            "text/plain": [
              "<keras.callbacks.History at 0x7f62ef99def0>"
            ]
          },
          "metadata": {
            "tags": []
          },
          "execution_count": 10
        }
      ]
    },
    {
      "cell_type": "code",
      "metadata": {
        "id": "YNf7lPqzzbqy",
        "colab_type": "code",
        "colab": {
          "base_uri": "https://localhost:8080/",
          "height": 581
        },
        "outputId": "b0851ccf-d51d-4c41-c4cc-c7c499171cf0"
      },
      "source": [
        "# Collect results\n",
        "exp_name_tag = (\"exp-ModelCheckPoint\")\n",
        "results[exp_name_tag] = {'train-loss': model.history.history[\"loss\"],\n",
        "                         'valid-loss': model.history.history[\"val_loss\"],\n",
        "                         'train-acc': model.history.history[\"acc\"],\n",
        "                         'valid-acc': model.history.history[\"val_acc\"]}\n",
        "\n",
        "print('*'*80)\n",
        "# 儲存模型\n",
        "model.save(\"final_model.h5\")\n",
        "print('save model to file: final_model.h5 ...DONE')\n",
        "model.save_weights(\"model_weights.h5\")\n",
        "print('save model weights to file: model_weights.h5 ...DONE')\n",
        "\n",
        "pred_final = model.predict(x_test)\n",
        "print('before save model: predict=', pred_final)\n",
        "print('-'*80)\n",
        "\n",
        "# Load back\n",
        "model = keras.models.load_model(\"./tmp.h5\")\n",
        "pred_loadback = model.predict(x_test)\n",
        "print('after model(tmp.h5) reload: predict=', pred_loadback)\n",
        "print('*'*80)"
      ],
      "execution_count": 11,
      "outputs": [
        {
          "output_type": "stream",
          "text": [
            "********************************************************************************\n",
            "save model to file: final_model.h5 ...DONE\n",
            "save model weights to file: model_weights.h5 ...DONE\n",
            "before save model: predict= [[2.2436264e-03 1.8946698e-02 2.8936265e-03 ... 1.0230487e-05\n",
            "  1.6884202e-01 1.6125858e-02]\n",
            " [8.2471957e-03 4.0737245e-02 2.4197008e-05 ... 1.0896570e-05\n",
            "  8.3750695e-01 1.1298179e-01]\n",
            " [6.8692714e-01 3.6214173e-02 8.7514361e-03 ... 2.4370675e-03\n",
            "  2.0820813e-01 5.2738633e-02]\n",
            " ...\n",
            " [8.3658466e-05 4.5714535e-07 7.8761613e-01 ... 2.5897014e-03\n",
            "  1.6181212e-03 4.8954890e-04]\n",
            " [8.8302582e-04 8.3608348e-03 5.6436360e-03 ... 7.7417423e-03\n",
            "  5.1654454e-02 2.6335730e-04]\n",
            " [1.9797503e-03 1.6328703e-04 4.3419570e-02 ... 1.7702416e-02\n",
            "  2.1489053e-04 2.1693965e-03]]\n",
            "--------------------------------------------------------------------------------\n",
            "after model(tmp.h5) reload: predict= [[1.3962052e-03 2.2590163e-03 2.3056531e-02 ... 5.6851219e-04\n",
            "  4.4136271e-03 5.0592615e-04]\n",
            " [1.9369191e-02 1.4009061e-01 2.8645716e-04 ... 4.3959048e-04\n",
            "  2.3084770e-01 6.0682815e-01]\n",
            " [6.1070806e-01 6.9977775e-02 1.1527346e-03 ... 5.7274466e-03\n",
            "  1.8647738e-01 1.2204650e-01]\n",
            " ...\n",
            " [2.2740224e-03 1.8552101e-03 5.0655615e-01 ... 2.0829313e-02\n",
            "  2.2916917e-03 3.7283381e-03]\n",
            " [8.8551119e-02 9.0589926e-02 2.0216881e-01 ... 2.4040708e-02\n",
            "  4.9588867e-03 3.3251196e-03]\n",
            " [1.0018787e-01 1.5427148e-02 5.6496125e-02 ... 5.4388130e-01\n",
            "  4.7915266e-03 8.7328730e-03]]\n",
            "********************************************************************************\n"
          ],
          "name": "stdout"
        }
      ]
    },
    {
      "cell_type": "code",
      "metadata": {
        "scrolled": true,
        "id": "4W6k1QNWpeJ5",
        "colab_type": "code",
        "colab": {
          "base_uri": "https://localhost:8080/",
          "height": 763
        },
        "outputId": "fd0f142b-7b02-4b71-db61-98f4b37ab422"
      },
      "source": [
        "import matplotlib.pyplot as plt\n",
        "%matplotlib inline\n",
        "\n",
        "import matplotlib.cm as mplcm\n",
        "import matplotlib.colors as colors\n",
        "\n",
        "\"\"\"Code Here\n",
        "將結果繪出\n",
        "\"\"\"\n",
        "\n",
        "NUM_COLORS = 20\n",
        "\n",
        "cm = plt.get_cmap('gist_rainbow')\n",
        "cNorm  = colors.Normalize(vmin=0, vmax=NUM_COLORS-1)\n",
        "scalarMap = mplcm.ScalarMappable(norm=cNorm, cmap=cm)\n",
        "color_bar = [scalarMap.to_rgba(i) for i in range(NUM_COLORS)]\n",
        "\n",
        "plt.figure(figsize=(8,6))\n",
        "for i, cond in enumerate(results.keys()):\n",
        "    plt.plot(range(len(results[cond]['train-loss'])),results[cond]['train-loss'], '-', label=cond, color=color_bar[i])\n",
        "    plt.plot(range(len(results[cond]['valid-loss'])),results[cond]['valid-loss'], '--', label=cond, color=color_bar[i])\n",
        "plt.title(\"Loss\")\n",
        "plt.legend()\n",
        "plt.show()\n",
        "\n",
        "plt.figure(figsize=(8,6))\n",
        "for i, cond in enumerate(results.keys()):\n",
        "    plt.plot(range(len(results[cond]['train-acc'])),results[cond]['train-acc'], '-', label=cond, color=color_bar[i])\n",
        "    plt.plot(range(len(results[cond]['valid-acc'])),results[cond]['valid-acc'], '--', label=cond, color=color_bar[i])\n",
        "plt.title(\"Accuracy\")\n",
        "plt.legend()\n",
        "plt.show()"
      ],
      "execution_count": 12,
      "outputs": [
        {
          "output_type": "display_data",
          "data": {
            "image/png": "[encoded data removed]",
            "text/plain": [
              "<Figure size 576x432 with 1 Axes>"
            ]
          },
          "metadata": {
            "tags": []
          }
        },
        {
          "output_type": "display_data",
          "data": {
            "image/png": "[encoded data removed]",
            "text/plain": [
              "<Figure size 576x432 with 1 Axes>"
            ]
          },
          "metadata": {
            "tags": []
          }
        }
      ]
    },
    {
      "cell_type": "code",
      "metadata": {
        "id": "DVzzw3awy5Fk",
        "colab_type": "code",
        "colab": {
          "base_uri": "https://localhost:8080/",
          "height": 54
        },
        "outputId": "458c3d49-64f9-451d-8886-9602bbb25eea"
      },
      "source": [
        "from sklearn.metrics import accuracy_score\n",
        "\n",
        "final_model_acc = accuracy_score(y_true=y_test.argmax(axis=-1), y_pred=pred_final.argmax(axis=-1))\n",
        "loadback_acc = accuracy_score(y_true=y_test.argmax(axis=-1), y_pred=pred_loadback.argmax(axis=-1))\n",
        "\n",
        "print(\"Accuracy of final weights: %.3f\" % final_model_acc)\n",
        "print(\"Accuracy of best weights: %.3f\" % loadback_acc)"
      ],
      "execution_count": 13,
      "outputs": [
        {
          "output_type": "stream",
          "text": [
            "Accuracy of final weights: 0.491\n",
            "Accuracy of best weights: 0.497\n"
          ],
          "name": "stdout"
        }
      ]
    },
    {
      "cell_type": "code",
      "metadata": {
        "id": "xHN_frS6y6hM",
        "colab_type": "code",
        "colab": {
          "base_uri": "https://localhost:8080/",
          "height": 54
        },
        "outputId": "a0ddb530-0e59-45ad-baa5-3c111e7dd464"
      },
      "source": [
        "new_model = build_mlp(input_shape=x_train.shape[1:])\n",
        "new_model_pred = new_model.predict(x_test)\n",
        "new_model_acc = accuracy_score(y_true=y_test.argmax(axis=-1), y_pred=new_model_pred.argmax(axis=-1))\n",
        "print(\"Accuracy of best weights: %.3f\" % new_model_acc)\n",
        "\n",
        "new_model.load_weights(\"./model_weights.h5\")\n",
        "new_model_pred = new_model.predict(x_test)\n",
        "new_model_loadback_acc = accuracy_score(y_true=y_test.argmax(axis=-1), y_pred=new_model_pred.argmax(axis=-1))\n",
        "print(\"Accuracy of best weights: %.3f\" % new_model_loadback_acc)"
      ],
      "execution_count": 14,
      "outputs": [
        {
          "output_type": "stream",
          "text": [
            "Accuracy of best weights: 0.100\n",
            "Accuracy of best weights: 0.491\n"
          ],
          "name": "stdout"
        }
      ]
    }
  ]
}