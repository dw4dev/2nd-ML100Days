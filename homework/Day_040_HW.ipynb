{
 "cells": [
  {
   "cell_type": "markdown",
   "metadata": {},
   "source": [
    "## [作業重點]\n",
    "使用 Sklearn 中的 Lasso, Ridge 模型，來訓練各種資料集，務必了解送進去模型訓練的**資料型態**為何，也請了解模型中各項參數的意義。\n",
    "\n",
    "機器學習的模型非常多種，但要訓練的資料多半有固定的格式，確保你了解訓練資料的格式為何，這樣在應用新模型時，就能夠最快的上手開始訓練！"
   ]
  },
  {
   "cell_type": "markdown",
   "metadata": {},
   "source": [
    "## 練習時間\n",
    "試著使用 sklearn datasets 的其他資料集 (boston, ...)，來訓練自己的線性迴歸模型，並加上適當的正則化(正規化)來觀察訓練情形。"
   ]
  },
  {
   "cell_type": "code",
   "execution_count": 1,
   "metadata": {},
   "outputs": [],
   "source": [
    "import numpy as np\n",
    "import pandas as pd\n",
    "import matplotlib.pyplot as plt\n",
    "from sklearn import datasets, linear_model\n",
    "from sklearn.model_selection import train_test_split\n",
    "from sklearn.metrics import mean_squared_error, r2_score, accuracy_score"
   ]
  },
  {
   "cell_type": "code",
   "execution_count": 4,
   "metadata": {
    "scrolled": true
   },
   "outputs": [],
   "source": [
    "boston = datasets.load_boston()\n",
    "#print(boston)"
   ]
  },
  {
   "cell_type": "code",
   "execution_count": 12,
   "metadata": {},
   "outputs": [
    {
     "name": "stdout",
     "output_type": "stream",
     "text": [
      "Lasso MSE: 16.82704987895191\n",
      "Ridge MSE: 12.359638371429323\n"
     ]
    }
   ],
   "source": [
    "X= boston.data\n",
    "y = boston.target\n",
    "\n",
    "X_train, X_test, y_train, y_test = train_test_split(X,y, test_size =0.1)\n",
    "\n",
    "lasso = linear_model.Lasso(alpha = 1.0)\n",
    "ridge = linear_model.Ridge(alpha = 1.0)\n",
    "\n",
    "lasso.fit(X_train, y_train)\n",
    "ridge.fit(X_train, y_train)\n",
    "\n",
    "y_pred = lasso.predict(X_test)\n",
    "print(f'Lasso MSE: {mean_squared_error(y_test,y_pred)}')\n",
    "y_pred = ridge.predict(X_test)\n",
    "print(f'Ridge MSE: {mean_squared_error(y_test,y_pred)}')"
   ]
  },
  {
   "cell_type": "code",
   "execution_count": 13,
   "metadata": {},
   "outputs": [
    {
     "data": {
      "text/plain": [
       "array([-0.06121173,  0.0524154 , -0.        ,  0.        , -0.        ,\n",
       "        0.82452304,  0.02659766, -0.68379958,  0.26618824, -0.01453242,\n",
       "       -0.79579498,  0.00778683, -0.79886255])"
      ]
     },
     "execution_count": 13,
     "metadata": {},
     "output_type": "execute_result"
    }
   ],
   "source": [
    "# lasso 的相關係數\n",
    "# coef_ 可以返回經過學習後的所有 feature 的參數。\n",
    "lasso.coef_"
   ]
  },
  {
   "cell_type": "code",
   "execution_count": 15,
   "metadata": {
    "scrolled": true
   },
   "outputs": [
    {
     "data": {
      "text/plain": [
       "[array([-1.08030191e-01,  4.62231345e-02,  5.59097077e-02,  3.07810024e+00,\n",
       "        -1.89058632e+01,  3.98204090e+00, -2.92747784e-04, -1.36920418e+00,\n",
       "         3.01355492e-01, -1.16244995e-02, -9.64235139e-01,  8.83379014e-03,\n",
       "        -5.08449699e-01]),\n",
       " array([-1.07729758e-01,  4.63104019e-02,  5.30586649e-02,  3.06432017e+00,\n",
       "        -1.82606444e+01,  3.98748294e+00, -8.64318309e-04, -1.35990374e+00,\n",
       "         2.99879435e-01, -1.16701268e-02, -9.56474235e-01,  8.87193848e-03,\n",
       "        -5.09266635e-01]),\n",
       " array([-1.07449813e-01,  4.63925871e-02,  5.03973082e-02,  3.05112656e+00,\n",
       "        -1.76579856e+01,  3.99244389e+00, -1.39695806e-03, -1.35121875e+00,\n",
       "         2.98506462e-01, -1.17130054e-02, -9.49233598e-01,  8.90755640e-03,\n",
       "        -5.10040060e-01]),\n",
       " array([-1.07188390e-01,  4.64701751e-02,  4.79074562e-02,  3.03846498e+00,\n",
       "        -1.70938104e+01,  3.99696998e+00, -1.89439822e-03, -1.34309026e+00,\n",
       "         2.97226681e-01, -1.17533975e-02, -9.42463366e-01,  8.94088602e-03,\n",
       "        -5.10774124e-01]),\n",
       " array([-1.06943766e-01,  4.65435910e-02,  4.55731775e-02,  3.02628776e+00,\n",
       "        -1.65645469e+01,  4.00110171e+00, -2.35990822e-03, -1.33546659e+00,\n",
       "         2.96031421e-01, -1.17915329e-02, -9.36119845e-01,  8.97213953e-03,\n",
       "        -5.11472462e-01]),\n",
       " array([-1.06714426e-01,  4.66132090e-02,  4.33804535e-02,  3.01455291e+00,\n",
       "        -1.60670521e+01,  4.00487471e+00, -2.79636500e-03, -1.32830228e+00,\n",
       "         2.94913054e-01, -1.18276137e-02, -9.30164588e-01,  9.00150365e-03,\n",
       "        -5.12138272e-01]),\n",
       " array([-1.06499030e-01,  4.66793595e-02,  4.13168990e-02,  3.00322334e+00,\n",
       "        -1.55985492e+01,  4.00832048e+00, -3.20631023e-03, -1.32155716e+00,\n",
       "         2.93864842e-01, -1.18618185e-02, -9.24563629e-01,  9.02914334e-03,\n",
       "        -5.12774381e-01]),\n",
       " array([-1.06296390e-01,  4.67423356e-02,  3.93715319e-02,  2.99226614e+00,\n",
       "        -1.51565758e+01,  4.01146693e+00, -3.59199774e-03, -1.31519561e+00,\n",
       "         2.92880808e-01, -1.18943057e-02, -9.19286848e-01,  9.05520486e-03,\n",
       "        -5.13383295e-01]),\n",
       " array([-1.06105451e-01,  4.68023981e-02,  3.75345792e-02,  2.98165200e+00,\n",
       "        -1.47389407e+01,  4.01433890e+00, -3.95543313e-03, -1.30918593e+00,\n",
       "         2.91955634e-01, -1.19252164e-02, -9.14307441e-01,  9.07981839e-03,\n",
       "        -5.13967245e-01]),\n",
       " array([-1.05925269e-01,  4.68597798e-02,  3.57973157e-02,  2.97135478e+00,\n",
       "        -1.43436876e+01,  4.01695859e+00, -4.29840705e-03, -1.30349983e+00,\n",
       "         2.91084573e-01, -1.19546762e-02, -9.09601480e-01,  9.10310014e-03,\n",
       "        -5.14528220e-01]),\n",
       " array([-1.05754998e-01,  4.69146894e-02,  3.41519268e-02,  2.96135102e+00,\n",
       "        -1.39690643e+01,  4.01934586e+00, -4.62252324e-03, -1.29811195e+00,\n",
       "         2.90263373e-01, -1.19827981e-02, -9.05147532e-01,  9.12515423e-03,\n",
       "        -5.15068006e-01]),\n",
       " array([-1.05593880e-01,  4.69673141e-02,  3.25913931e-02,  2.95161964e+00,\n",
       "        -1.36134969e+01,  4.02151854e+00, -4.92922231e-03, -1.29299954e+00,\n",
       "         2.89488214e-01, -1.20096831e-02, -9.00926345e-01,  9.14607413e-03,\n",
       "        -5.15588204e-01]),\n",
       " array([-1.05441231e-01,  4.70178228e-02,  3.11093914e-02,  2.94214168e+00,\n",
       "        -1.32755677e+01,  4.02349273e+00, -5.21980192e-03, -1.28814208e+00,\n",
       "         2.88755656e-01, -1.20354227e-02, -8.96920578e-01,  9.16594410e-03,\n",
       "        -5.16090257e-01]),\n",
       " array([-1.05296435e-01,  4.70663679e-02,  2.97002109e-02,  2.93289995e+00,\n",
       "        -1.29539960e+01,  4.02528294e+00, -5.49543412e-03, -1.28352104e+00,\n",
       "         2.88062591e-01, -1.20600990e-02, -8.93114566e-01,  9.18484020e-03,\n",
       "        -5.16575469e-01]),\n",
       " array([-1.05158930e-01,  4.71130873e-02,  2.83586804e-02,  2.92387891e+00,\n",
       "        -1.26476224e+01,  4.02690231e+00, -5.75718019e-03, -1.27911967e+00,\n",
       "         2.87406206e-01, -1.20837869e-02, -8.89494129e-01,  9.20283132e-03,\n",
       "        -5.17045020e-01]),\n",
       " array([-1.05028211e-01,  4.71581065e-02,  2.70801064e-02,  2.91506446e+00,\n",
       "        -1.23553945e+01,  4.02836278e+00, -6.00600340e-03, -1.27492272e+00,\n",
       "         2.86783948e-01, -1.21065539e-02, -8.86046392e-01,  9.21998000e-03,\n",
       "        -5.17499983e-01]),\n",
       " array([-1.04903816e-01,  4.72015393e-02,  2.58602189e-02,  2.90644372e+00,\n",
       "        -1.20763547e+01,  4.02967520e+00, -6.24278009e-03, -1.27091636e+00,\n",
       "         2.86193492e-01, -1.21284618e-02, -8.82759646e-01,  9.23634313e-03,\n",
       "        -5.17941330e-01]),\n",
       " array([-1.04785324e-01,  4.72434898e-02,  2.46951250e-02,  2.89800497e+00,\n",
       "        -1.18096300e+01,  4.03084948e+00, -6.46830924e-03, -1.26708796e+00,\n",
       "         2.85632722e-01, -1.21495667e-02, -8.79623212e-01,  9.25197257e-03,\n",
       "        -5.18369953e-01]),\n",
       " array([-1.04672349e-01,  4.72840529e-02,  2.35812679e-02,  2.88973748e+00,\n",
       "        -1.15544230e+01,  4.03189465e+00, -6.68332083e-03, -1.26342597e+00,\n",
       "         2.85099702e-01, -1.21699199e-02, -8.76627335e-01,  9.26691572e-03,\n",
       "        -5.18786662e-01])]"
      ]
     },
     "execution_count": 15,
     "metadata": {},
     "output_type": "execute_result"
    }
   ],
   "source": [
    "ridge_coef"
   ]
  },
  {
   "cell_type": "code",
   "execution_count": 20,
   "metadata": {},
   "outputs": [],
   "source": [
    "import warnings\n",
    "warnings.simplefilter(\"ignore\")\n",
    "    \n",
    "lasso_coef = []\n",
    "ridge_coef = []\n",
    "lasso_errors = []\n",
    "ridge_errors = []\n",
    "\n",
    "alpha = np.linspace(0,1,20)\n",
    "\n",
    "for a in alpha:\n",
    "    '''\n",
    "    alpha = 0 is equivalent to an ordinary least square, \n",
    "    solved by the LinearRegression object. \n",
    "    For numerical reasons, using alpha = 0 with the Lasso object is **not advised**. \n",
    "    Given this, you should use the LinearRegression object.\n",
    "    '''\n",
    "    #（在 scikit-learn 的 Lasso 裡面是 alpha，但是書上都是 λ）\n",
    "    lasso = linear_model.Lasso(alpha=a)\n",
    "    ridge = linear_model.Ridge(alpha=a)\n",
    "    lasso.fit(X_train, y_train)\n",
    "    ridge.fit(X_train, y_train)\n",
    "    lasso_coef.append(lasso.coef_)\n",
    "    ridge_coef.append(ridge.coef_)\n",
    "    lasso_errors.append(mean_squared_error(y_test,lasso.predict(X_test)))\n",
    "    ridge_errors.append(mean_squared_error(y_test,ridge.predict(X_test)))\n",
    "    "
   ]
  },
  {
   "cell_type": "code",
   "execution_count": 17,
   "metadata": {},
   "outputs": [
    {
     "data": {
      "image/png": "[encoded data removed]",
      "text/plain": [
       "<Figure size 432x288 with 1 Axes>"
      ]
     },
     "metadata": {
      "needs_background": "light"
     },
     "output_type": "display_data"
    }
   ],
   "source": [
    "# 获得绘图句柄\n",
    "ax = plt.gca()\n",
    "# 参数中每一个维度使用一个颜色表示\n",
    "# ax.set_color_cycle(['b', 'r', 'g', 'c', 'k'])\n",
    "\n",
    "# 绘制alpha和对应的参数之间的关系图\n",
    "ax.plot(alpha, lasso_coef)\n",
    "# ax.set_xscale('log')    #x轴使用对数表示\n",
    "# ax.set_xlim(ax.get_xlim()[::-1])  # 将x轴反转，便于显示\n",
    "plt.grid()\n",
    "plt.xlabel('alpha')\n",
    "plt.ylabel('weights')\n",
    "plt.title('Lasso coefficients as a function of the regularization')\n",
    "# plt.axis('tight')\n",
    "plt.show()\n"
   ]
  },
  {
   "cell_type": "code",
   "execution_count": 21,
   "metadata": {},
   "outputs": [
    {
     "data": {
      "image/png": "[encoded data removed]",
      "text/plain": [
       "<Figure size 432x288 with 1 Axes>"
      ]
     },
     "metadata": {
      "needs_background": "light"
     },
     "output_type": "display_data"
    }
   ],
   "source": [
    "ax = plt.gca()\n",
    "# 参数中每一个维度使用一个颜色表示\n",
    "# ax.set_color_cycle(['b', 'r', 'g', 'c', 'k'])\n",
    "\n",
    "# 绘制alpha和对应的参数之间的关系图\n",
    "ax.plot(alpha, ridge_coef)\n",
    "# ax.set_xscale('log')    #x轴使用对数表示\n",
    "# ax.set_xlim(ax.get_xlim()[::-1])  # 将x轴反转，便于显示\n",
    "plt.grid()\n",
    "plt.xlabel('alpha')\n",
    "plt.ylabel('weights')\n",
    "plt.title('Ridge coefficients as a function of the regularization')\n",
    "# plt.axis('tight')\n",
    "plt.show()"
   ]
  },
  {
   "cell_type": "code",
   "execution_count": 22,
   "metadata": {},
   "outputs": [
    {
     "data": {
      "text/plain": [
       "[12.482368388308267,\n",
       " 13.051091149092278,\n",
       " 13.023564403767091,\n",
       " 13.115759124240205,\n",
       " 13.224594484650904,\n",
       " 13.292983073423171,\n",
       " 13.401614232784622,\n",
       " 13.544443864292072,\n",
       " 13.709822532596025,\n",
       " 13.886619331737926,\n",
       " 14.083887742138874,\n",
       " 14.30263693544862,\n",
       " 14.542915132955873,\n",
       " 14.804700544038198,\n",
       " 15.087992120211085,\n",
       " 15.392779722163052,\n",
       " 15.719087439566518,\n",
       " 16.06690036941226,\n",
       " 16.436220099522348,\n",
       " 16.82704987895191]"
      ]
     },
     "execution_count": 22,
     "metadata": {},
     "output_type": "execute_result"
    }
   ],
   "source": [
    "lasso_errors"
   ]
  },
  {
   "cell_type": "code",
   "execution_count": 23,
   "metadata": {},
   "outputs": [
    {
     "data": {
      "text/plain": [
       "[12.48236838830827,\n",
       " 12.44473168111678,\n",
       " 12.414592495905922,\n",
       " 12.390647759118684,\n",
       " 12.371842219107325,\n",
       " 12.357315947660553,\n",
       " 12.346364140545905,\n",
       " 12.338406065009869,\n",
       " 12.332960876817447,\n",
       " 12.32962864364001,\n",
       " 12.328075347969651,\n",
       " 12.328020956127942,\n",
       " 12.329229867290554,\n",
       " 12.331503222962413,\n",
       " 12.334672680385566,\n",
       " 12.338595345055158,\n",
       " 12.343149626392318,\n",
       " 12.348231832743883,\n",
       " 12.353753361603985,\n",
       " 12.359638371429323]"
      ]
     },
     "execution_count": 23,
     "metadata": {},
     "output_type": "execute_result"
    }
   ],
   "source": [
    "ridge_errors"
   ]
  },
  {
   "cell_type": "code",
   "execution_count": null,
   "metadata": {},
   "outputs": [],
   "source": []
  }
 ],
 "metadata": {
  "kernelspec": {
   "display_name": "Python 3",
   "language": "python",
   "name": "python3"
  },
  "language_info": {
   "codemirror_mode": {
    "name": "ipython",
    "version": 3
   },
   "file_extension": ".py",
   "mimetype": "text/x-python",
   "name": "python",
   "nbconvert_exporter": "python",
   "pygments_lexer": "ipython3",
   "version": "3.7.1"
  }
 },
 "nbformat": 4,
 "nbformat_minor": 2
}
