{
 "cells": [
  {
   "cell_type": "markdown",
   "metadata": {},
   "source": [
    "# 作業\n",
    "* 試著想想看, 非監督學習是否有可能使用評價函數 (Metric) 來鑑別好壞呢?  \n",
    "(Hint : 可以分為 \"有目標值\" 與 \"無目標值\" 兩個方向思考)"
   ]
  },
  {
   "cell_type": "markdown",
   "metadata": {
    "collapsed": true
   },
   "source": [
    "## 參考：[無監督聚類算法該如何評價](https://blog.csdn.net/u013709270/article/details/74276533)\n",
    "\n",
    "\n",
    "## ANS:\n",
    "\n",
    "幾乎所有的機器學習理論與實戰教材裡面都有非常詳細的理論化的有監督分類學習算法的評價指標。<br>\n",
    "例如：正確率、召回率、精準率、ROC曲線、AUC曲線。<br>\n",
    "但是幾乎沒有任何教材上有明確的關於無監督聚類算法的評價指標！<br>\n",
    "那麼學術界到底有沒有成熟公認的關於無監督聚類算法的評價指標呢？<br>\n",
    "<br>\n",
    "關於無監督聚類算法結果好壞的評價指標不僅有，而且還挺多的。\n",
    "\n",
    "\n",
    "## 有類標(標籤)的情況\n",
    "\n",
    "1. Purity方法\n",
    "0. RI方法(Rand index蘭德指數)\n",
    "0. F值方法\n",
    "\n",
    "\n",
    "## 無類標(標籤)的情況\n",
    "\n",
    "1. Compactness(緊密性)(CP)\n",
    "0. Separation(間隔性)(SP)\n",
    "0. Davies-Bouldin Index(戴維森堡丁指數)(分類適確性指標)(DB)(DBI)\n",
    "0. Dunn Validity Index (鄧恩指數)(DVI)"
   ]
  },
  {
   "cell_type": "code",
   "execution_count": null,
   "metadata": {},
   "outputs": [],
   "source": []
  }
 ],
 "metadata": {
  "kernelspec": {
   "display_name": "Python 3",
   "language": "python",
   "name": "python3"
  },
  "language_info": {
   "codemirror_mode": {
    "name": "ipython",
    "version": 3
   },
   "file_extension": ".py",
   "mimetype": "text/x-python",
   "name": "python",
   "nbconvert_exporter": "python",
   "pygments_lexer": "ipython3",
   "version": "3.7.1"
  }
 },
 "nbformat": 4,
 "nbformat_minor": 1
}
